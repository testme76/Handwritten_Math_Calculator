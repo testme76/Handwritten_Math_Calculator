{
 "cells": [
  {
   "cell_type": "code",
   "execution_count": 5,
   "metadata": {},
   "outputs": [
    {
     "name": "stdout",
     "output_type": "stream",
     "text": [
      "PyTorch version: 2.5.1+cu118\n",
      "CUDA available: True\n",
      "GPU device: NVIDIA GeForce RTX 4080 SUPER\n"
     ]
    }
   ],
   "source": [
    "import torch\n",
    "# Define device first\n",
    "device = torch.device(\"cuda:0\" if torch.cuda.is_available() else \"cpu\")\n",
    "print(f\"PyTorch version: {torch.__version__}\")\n",
    "print(f\"CUDA available: {torch.cuda.is_available()}\")\n",
    "if torch.cuda.is_available():\n",
    "    print(f\"GPU device: {torch.cuda.get_device_name()}\")"
   ]
  },
  {
   "cell_type": "code",
   "execution_count": 6,
   "metadata": {},
   "outputs": [],
   "source": [
    "# Enter your kaggle user name and key\n",
    "username = str('')\n",
    "key = str('')"
   ]
  },
  {
   "cell_type": "code",
   "execution_count": 7,
   "metadata": {},
   "outputs": [],
   "source": [
    "# All imports\n",
    "import torch\n",
    "import torch.optim as optim\n",
    "from torch.utils.data import Dataset, DataLoader\n",
    "from PIL import Image\n",
    "import os\n",
    "import shutil  # Add this import\n",
    "import torchvision\n",
    "import torchvision.transforms as transforms\n",
    "import matplotlib.pyplot as plt\n",
    "import numpy as np\n",
    "import torch.nn as nn\n",
    "import torch.nn.functional as F\n",
    "from datetime import datetime\n",
    "import time\n",
    "from torch.optim.lr_scheduler import ReduceLROnPlateau\n",
    "from tqdm import tqdm\n",
    "from datetime import datetime"
   ]
  },
  {
   "cell_type": "code",
   "execution_count": 10,
   "metadata": {},
   "outputs": [
    {
     "name": "stdout",
     "output_type": "stream",
     "text": [
      "\n",
      "Verifying credentials format:\n",
      "Username type: <class 'str'>\n",
      "Key type: <class 'str'>\n",
      "Kaggle credentials saved successfully\n",
      "Skipping, found downloaded files in \".\\handwritten-math-symbols\" (use force=True to force download)\n"
     ]
    }
   ],
   "source": [
    "# Download dataset from Kaggle\n",
    "import opendatasets as od\n",
    "import pandas\n",
    "import json\n",
    "\n",
    "# Create .kaggle directory if it doesn't exist\n",
    "os.makedirs(os.path.expanduser('~/.kaggle'), exist_ok=True)\n",
    "\n",
    "try:\n",
    "    kaggle_token = {\n",
    "        \"username\": username,\n",
    "        \"key\": key\n",
    "    }\n",
    "    \n",
    "    # Verify the data is string\n",
    "    print(\"\\nVerifying credentials format:\")\n",
    "    print(f\"Username type: {type(username)}\")\n",
    "    print(f\"Key type: {type(key)}\")\n",
    "    \n",
    "    with open(os.path.expanduser('~/.kaggle/kaggle.json'), 'w') as f:\n",
    "        json.dump(kaggle_token, f)\n",
    "    \n",
    "    print(\"Kaggle credentials saved successfully\")\n",
    "except Exception as e:\n",
    "    print(f\"Error saving Kaggle credentials: {e}\")\n",
    "    raise\n",
    "\n",
    "# Set permissions\n",
    "os.chmod(os.path.expanduser('~/.kaggle/kaggle.json'), 0o600)\n",
    "\n",
    "# Download dataset\n",
    "dataset_url = \"https://www.kaggle.com/datasets/sagyamthapa/handwritten-math-symbols\"\n",
    "od.download(dataset_url)"
   ]
  },
  {
   "cell_type": "code",
   "execution_count": 11,
   "metadata": {},
   "outputs": [
    {
     "name": "stdout",
     "output_type": "stream",
     "text": [
      "\n",
      "Starting extraction process...\n",
      "Looking for archive at: ./handwritten-math-symbols.zip\n",
      "Archive exists: False\n",
      "\n",
      "Starting file organization...\n",
      "Looking for source directory at: ./handwritten-math-symbols/dataset\n",
      "Source directory exists: True\n",
      "\n",
      "Moving digit folders...\n",
      "Copying ./handwritten-math-symbols/dataset\\0 to ./data/digits\\0\n",
      "Copying ./handwritten-math-symbols/dataset\\1 to ./data/digits\\1\n",
      "Copying ./handwritten-math-symbols/dataset\\2 to ./data/digits\\2\n",
      "Copying ./handwritten-math-symbols/dataset\\3 to ./data/digits\\3\n",
      "Copying ./handwritten-math-symbols/dataset\\4 to ./data/digits\\4\n",
      "Copying ./handwritten-math-symbols/dataset\\5 to ./data/digits\\5\n",
      "Copying ./handwritten-math-symbols/dataset\\6 to ./data/digits\\6\n",
      "Copying ./handwritten-math-symbols/dataset\\7 to ./data/digits\\7\n",
      "Copying ./handwritten-math-symbols/dataset\\8 to ./data/digits\\8\n",
      "Copying ./handwritten-math-symbols/dataset\\9 to ./data/digits\\9\n",
      "\n",
      "Moving operator folders...\n",
      "Copying ./handwritten-math-symbols/dataset\\add to ./data/operators\\add\n",
      "Copying ./handwritten-math-symbols/dataset\\sub to ./data/operators\\sub\n",
      "Copying ./handwritten-math-symbols/dataset\\mul to ./data/operators\\mul\n",
      "Copying ./handwritten-math-symbols/dataset\\div to ./data/operators\\div\n",
      "Copying ./handwritten-math-symbols/dataset\\eq to ./data/operators\\eq\n",
      "Copying ./handwritten-math-symbols/dataset\\dec to ./data/operators\\dec\n",
      "Copying ./handwritten-math-symbols/dataset\\x to ./data/operators\\x\n",
      "Copying ./handwritten-math-symbols/dataset\\y to ./data/operators\\y\n",
      "Copying ./handwritten-math-symbols/dataset\\z to ./data/operators\\z\n",
      "\n",
      "Verifying directory structure:\n",
      "\n",
      "Directory: ./data\n",
      "Subdirectories: ['digits', 'operators']\n",
      "Number of files: 0\n",
      "\n",
      "Directory: ./data\\digits\n",
      "Subdirectories: ['0', '1', '2', '3', '4', '5', '6', '7', '8', '9']\n",
      "Number of files: 0\n",
      "\n",
      "Directory: ./data\\digits\\0\n",
      "Subdirectories: []\n",
      "Number of files: 595\n",
      "\n",
      "Directory: ./data\\digits\\1\n",
      "Subdirectories: []\n",
      "Number of files: 562\n",
      "\n",
      "Directory: ./data\\digits\\2\n",
      "Subdirectories: []\n",
      "Number of files: 433\n",
      "\n",
      "Directory: ./data\\digits\\3\n",
      "Subdirectories: []\n",
      "Number of files: 541\n",
      "\n",
      "Directory: ./data\\digits\\4\n",
      "Subdirectories: []\n",
      "Number of files: 526\n",
      "\n",
      "Directory: ./data\\digits\\5\n",
      "Subdirectories: []\n",
      "Number of files: 433\n",
      "\n",
      "Directory: ./data\\digits\\6\n",
      "Subdirectories: []\n",
      "Number of files: 581\n",
      "\n",
      "Directory: ./data\\digits\\7\n",
      "Subdirectories: []\n",
      "Number of files: 533\n",
      "\n",
      "Directory: ./data\\digits\\8\n",
      "Subdirectories: []\n",
      "Number of files: 554\n",
      "\n",
      "Directory: ./data\\digits\\9\n",
      "Subdirectories: []\n",
      "Number of files: 547\n",
      "\n",
      "Directory: ./data\\operators\n",
      "Subdirectories: ['add', 'dec', 'div', 'eq', 'mul', 'sub', 'x', 'y', 'z']\n",
      "Number of files: 0\n",
      "\n",
      "Directory: ./data\\operators\\add\n",
      "Subdirectories: []\n",
      "Number of files: 596\n",
      "\n",
      "Directory: ./data\\operators\\dec\n",
      "Subdirectories: []\n",
      "Number of files: 624\n",
      "\n",
      "Directory: ./data\\operators\\div\n",
      "Subdirectories: []\n",
      "Number of files: 618\n",
      "\n",
      "Directory: ./data\\operators\\eq\n",
      "Subdirectories: []\n",
      "Number of files: 634\n",
      "\n",
      "Directory: ./data\\operators\\mul\n",
      "Subdirectories: []\n",
      "Number of files: 577\n",
      "\n",
      "Directory: ./data\\operators\\sub\n",
      "Subdirectories: []\n",
      "Number of files: 655\n",
      "\n",
      "Directory: ./data\\operators\\x\n",
      "Subdirectories: []\n",
      "Number of files: 452\n",
      "\n",
      "Directory: ./data\\operators\\y\n",
      "Subdirectories: []\n",
      "Number of files: 399\n",
      "\n",
      "Directory: ./data\\operators\\z\n",
      "Subdirectories: []\n",
      "Number of files: 212\n",
      "\n",
      "Verifying data in folders:\n",
      "\n",
      "Found digit classes: ['0', '1', '2', '3', '4', '5', '6', '7', '8', '9']\n",
      "Found operator classes: ['add', 'dec', 'div', 'eq', 'mul', 'sub', 'x', 'y', 'z']\n"
     ]
    }
   ],
   "source": [
    "# Extract dataset from archive with more detailed logging\n",
    "print(\"\\nStarting extraction process...\")\n",
    "dataset_path = \"./handwritten-math-symbols\"\n",
    "archive_path = f\"{dataset_path}.zip\"\n",
    "print(f\"Looking for archive at: {archive_path}\")\n",
    "print(f\"Archive exists: {os.path.exists(archive_path)}\")\n",
    "\n",
    "if os.path.exists(archive_path):\n",
    "    import zipfile\n",
    "    with zipfile.ZipFile(archive_path, 'r') as zip_ref:\n",
    "        # List contents of zip file\n",
    "        print(\"\\nContents of zip file:\")\n",
    "        for file in zip_ref.namelist()[:10]:  # Show first 10 files\n",
    "            print(f\"- {file}\")\n",
    "        print(\"...\")\n",
    "        \n",
    "        zip_ref.extractall(\"./\")\n",
    "    print(\"Dataset extracted successfully\")\n",
    "\n",
    "def verify_directory_structure():\n",
    "    \"\"\"Verify and print the directory structure\"\"\"\n",
    "    print(\"\\nVerifying directory structure:\")\n",
    "    for root, dirs, files in os.walk('./data'):\n",
    "        print(f\"\\nDirectory: {root}\")\n",
    "        print(f\"Subdirectories: {dirs}\")\n",
    "        print(f\"Number of files: {len(files)}\")\n",
    "\n",
    "# First organize the data\n",
    "print(\"\\nStarting file organization...\")\n",
    "source_dir = \"./handwritten-math-symbols/dataset\"\n",
    "print(f\"Looking for source directory at: {source_dir}\")\n",
    "print(f\"Source directory exists: {os.path.exists(source_dir)}\")\n",
    "\n",
    "if not os.path.exists(source_dir):\n",
    "    raise FileNotFoundError(f\"Source directory {source_dir} not found!\")\n",
    "\n",
    "# Create destination directories\n",
    "os.makedirs('./data/digits', exist_ok=True)\n",
    "os.makedirs('./data/operators', exist_ok=True)\n",
    "\n",
    "# Define which folders belong to digits and operators\n",
    "digit_folders = ['0', '1', '2', '3', '4', '5', '6', '7', '8', '9']\n",
    "operator_folders = ['add', 'sub', 'mul', 'div', 'eq', 'dec', 'x', 'y', 'z']\n",
    "\n",
    "# Move digit folders\n",
    "print(\"\\nMoving digit folders...\")\n",
    "for folder in digit_folders:\n",
    "    src = os.path.join(source_dir, folder)\n",
    "    dst = os.path.join('./data/digits', folder)\n",
    "    if os.path.exists(src):\n",
    "        print(f\"Copying {src} to {dst}\")\n",
    "        shutil.copytree(src, dst, dirs_exist_ok=True)\n",
    "    else:\n",
    "        print(f\"Warning: Source folder not found: {src}\")\n",
    "\n",
    "# Move operator folders\n",
    "print(\"\\nMoving operator folders...\")\n",
    "for folder in operator_folders:\n",
    "    src = os.path.join(source_dir, folder)\n",
    "    dst = os.path.join('./data/operators', folder)\n",
    "    if os.path.exists(src):\n",
    "        print(f\"Copying {src} to {dst}\")\n",
    "        shutil.copytree(src, dst, dirs_exist_ok=True)\n",
    "    else:\n",
    "        print(f\"Warning: Source folder not found: {src}\")\n",
    "\n",
    "# Verify the directory structure\n",
    "verify_directory_structure()\n",
    "\n",
    "# Verify that we have data in the folders\n",
    "print(\"\\nVerifying data in folders:\")\n",
    "digit_path = './data/digits'\n",
    "operator_path = './data/operators'\n",
    "\n",
    "if not os.path.exists(digit_path) or not os.path.exists(operator_path):\n",
    "    raise FileNotFoundError(\"Data directories not created properly!\")\n",
    "\n",
    "digit_classes = sorted(os.listdir(digit_path))\n",
    "operator_classes = sorted(os.listdir(operator_path))\n",
    "\n",
    "print(f\"\\nFound digit classes: {digit_classes}\")\n",
    "print(f\"Found operator classes: {operator_classes}\")\n",
    "\n",
    "if not digit_classes:\n",
    "    raise FileNotFoundError(\"No digit classes found!\")\n",
    "if not operator_classes:\n",
    "    raise FileNotFoundError(\"No operator classes found!\")\n"
   ]
  },
  {
   "cell_type": "code",
   "execution_count": 12,
   "metadata": {},
   "outputs": [
    {
     "name": "stdout",
     "output_type": "stream",
     "text": [
      "\n",
      "Digit dataset created successfully with 5304 images\n",
      "Operator dataset created successfully with 4767 images\n",
      "\n",
      "Datasets and dataloaders created successfully!\n",
      "Number of digit classes: 10\n",
      "Number of operator classes: 9\n"
     ]
    }
   ],
   "source": [
    "# Create transforms\n",
    "transform = transforms.Compose([\n",
    "    transforms.Resize((32, 32)),\n",
    "    transforms.Grayscale(num_output_channels=1),\n",
    "    transforms.ToTensor(),\n",
    "    transforms.Normalize((0.5,), (0.5,))\n",
    "])\n",
    "\n",
    "# Create datasets with error handling\n",
    "try:\n",
    "    digit_dataset = torchvision.datasets.ImageFolder(\n",
    "        root='./data/digits',\n",
    "        transform=transform\n",
    "    )\n",
    "    print(f\"\\nDigit dataset created successfully with {len(digit_dataset)} images\")\n",
    "except Exception as e:\n",
    "    print(f\"Error creating digit dataset: {e}\")\n",
    "    raise\n",
    "\n",
    "try:\n",
    "    operator_dataset = torchvision.datasets.ImageFolder(\n",
    "        root='./data/operators',\n",
    "        transform=transform\n",
    "    )\n",
    "    print(f\"Operator dataset created successfully with {len(operator_dataset)} images\")\n",
    "except Exception as e:\n",
    "    print(f\"Error creating operator dataset: {e}\")\n",
    "    raise\n",
    "\n",
    "# Create dataloaders\n",
    "digit_trainloader = torch.utils.data.DataLoader(\n",
    "    digit_dataset, \n",
    "    batch_size=32,\n",
    "    shuffle=True, \n",
    "    num_workers=2\n",
    "    )\n",
    "\n",
    "operator_trainloader = torch.utils.data.DataLoader(\n",
    "    operator_dataset, \n",
    "    batch_size=32,\n",
    "    shuffle=True, \n",
    "    num_workers=2\n",
    "    )\n",
    "\n",
    "print(\"\\nDatasets and dataloaders created successfully!\")\n",
    "print(f\"Number of digit classes: {len(digit_dataset.classes)}\")\n",
    "print(f\"Number of operator classes: {len(operator_dataset.classes)}\")\n"
   ]
  },
  {
   "cell_type": "code",
   "execution_count": 13,
   "metadata": {},
   "outputs": [
    {
     "name": "stdout",
     "output_type": "stream",
     "text": [
      "\n",
      "Diagnostic Information:\n",
      "Digit classes: ['0', '1', '2', '3', '4', '5', '6', '7', '8', '9']\n",
      "Number of digit classes: 10\n",
      "DigitNet output dimension: 10\n",
      "Operator classes: ['add', 'dec', 'div', 'eq', 'mul', 'sub', 'x', 'y', 'z']\n",
      "Number of operator classes: 9\n",
      "OperatorNet output dimension: 9\n",
      "\n",
      "Network Architecture Check:\n",
      "DigitNet:\n",
      "Input -> Conv1 (1->6) -> Pool -> Conv2 (6->16) -> Pool -> FC1 (400->120) -> FC2 (120->84) -> FC3 (84->10)\n",
      "\n",
      "OperatorNet:\n",
      "Input -> Conv1 (1->6) -> Pool -> Conv2 (6->16) -> Pool -> FC1 (400->120) -> FC2 (120->84) -> FC3 (84->9)\n",
      "\n",
      "Moving networks to GPU...\n",
      "Successfully moved networks to GPU\n",
      "\n",
      "Verifying data shapes:\n",
      "Digit batch - Images: torch.Size([32, 1, 32, 32]), Labels: torch.Size([32])\n",
      "Operator batch - Images: torch.Size([32, 1, 32, 32]), Labels: torch.Size([32])\n",
      "\n",
      "Label distributions:\n",
      "Digit labels unique values: tensor([0, 1, 2, 3, 4, 5, 6, 7, 8, 9])\n",
      "Operator labels unique values: tensor([0, 1, 2, 3, 4, 5, 6, 7, 8])\n",
      "\n",
      "Network output dimensions:\n",
      "DigitNet output: torch.Size([32, 10])\n",
      "OperatorNet output: torch.Size([32, 9])\n"
     ]
    }
   ],
   "source": [
    "# Define the classes based on the folders\n",
    "digit_classes = sorted(os.listdir('./data/digits'))\n",
    "operator_classes = sorted(os.listdir('./data/operators'))\n",
    "\n",
    "# Define network architectures first\n",
    "class DigitNet(nn.Module):\n",
    "    def __init__(self):\n",
    "        super(DigitNet, self).__init__()\n",
    "        # Input: 1x32x32\n",
    "        self.conv1 = nn.Conv2d(1, 6, 5)  # Output: 6x28x28\n",
    "        self.pool = nn.MaxPool2d(2, 2)    # Output: 6x14x14\n",
    "        self.conv2 = nn.Conv2d(6, 16, 5)  # Output: 16x10x10\n",
    "        # After second pooling: 16x5x5\n",
    "        self.fc1 = nn.Linear(16 * 5 * 5, 120)\n",
    "        self.fc2 = nn.Linear(120, 84)\n",
    "        self.fc3 = nn.Linear(84, len(digit_classes))\n",
    "\n",
    "    def forward(self, x):\n",
    "        x = self.pool(F.relu(self.conv1(x)))\n",
    "        x = self.pool(F.relu(self.conv2(x)))\n",
    "        x = x.view(-1, 16 * 5 * 5)\n",
    "        x = F.relu(self.fc1(x))\n",
    "        x = F.relu(self.fc2(x))\n",
    "        x = self.fc3(x)\n",
    "        return x\n",
    "\n",
    "class OperatorNet(nn.Module):\n",
    "    def __init__(self):\n",
    "        super(OperatorNet, self).__init__()\n",
    "        # Input: 1x32x32\n",
    "        self.conv1 = nn.Conv2d(1, 6, 5)  # Output: 6x28x28\n",
    "        self.pool = nn.MaxPool2d(2, 2)    # Output: 6x14x14\n",
    "        self.conv2 = nn.Conv2d(6, 16, 5)  # Output: 16x10x10\n",
    "        # After second pooling: 16x5x5\n",
    "        self.fc1 = nn.Linear(16 * 5 * 5, 120)\n",
    "        self.fc2 = nn.Linear(120, 84)\n",
    "        self.fc3 = nn.Linear(84, len(operator_classes))\n",
    "\n",
    "    def forward(self, x):\n",
    "        x = self.pool(F.relu(self.conv1(x)))\n",
    "        x = self.pool(F.relu(self.conv2(x)))\n",
    "        x = x.view(-1, 16 * 5 * 5)\n",
    "        x = F.relu(self.fc1(x))\n",
    "        x = F.relu(self.fc2(x))\n",
    "        x = self.fc3(x)\n",
    "        return x\n",
    "    \n",
    "# Initialize networks on CPU first\n",
    "digit_net = DigitNet()\n",
    "operator_net = OperatorNet()\n",
    "\n",
    "# Diagnostic code to check dimensions and classes\n",
    "print(\"\\nDiagnostic Information:\")\n",
    "print(f\"Digit classes: {digit_classes}\")\n",
    "print(f\"Number of digit classes: {len(digit_classes)}\")\n",
    "print(f\"DigitNet output dimension: {digit_net.fc3.out_features}\")\n",
    "\n",
    "print(f\"Operator classes: {operator_classes}\")\n",
    "print(f\"Number of operator classes: {len(operator_classes)}\")\n",
    "print(f\"OperatorNet output dimension: {operator_net.fc3.out_features}\")\n",
    "\n",
    "# Verify network structures before moving to GPU\n",
    "print(\"\\nNetwork Architecture Check:\")\n",
    "print(\"DigitNet:\")\n",
    "print(f\"Input -> Conv1 (1->6) -> Pool -> Conv2 (6->16) -> Pool -> FC1 (400->120) -> FC2 (120->84) -> FC3 (84->{len(digit_classes)})\")\n",
    "print(\"\\nOperatorNet:\")\n",
    "print(f\"Input -> Conv1 (1->6) -> Pool -> Conv2 (6->16) -> Pool -> FC1 (400->120) -> FC2 (120->84) -> FC3 (84->{len(operator_classes)})\")\n",
    "\n",
    "# Try moving to GPU with error handling\n",
    "try:\n",
    "    print(\"\\nMoving networks to GPU...\")\n",
    "    digit_net = digit_net.to(device)\n",
    "    operator_net = operator_net.to(device)\n",
    "    print(\"Successfully moved networks to GPU\")\n",
    "except RuntimeError as e:\n",
    "    print(f\"Error moving networks to GPU: {e}\")\n",
    "    print(\"Falling back to CPU\")\n",
    "    device = torch.device(\"cpu\")\n",
    "    digit_net = digit_net.to(device)\n",
    "    operator_net = operator_net.to(device)\n",
    "\n",
    "# Create optimizers after moving networks to device\n",
    "digit_optimizer = optim.SGD(digit_net.parameters(), lr=0.001, momentum=0.9)\n",
    "operator_optimizer = optim.SGD(operator_net.parameters(), lr=0.001, momentum=0.9)\n",
    "\n",
    "# Now verify data and label shapes\n",
    "print(\"\\nVerifying data shapes:\")\n",
    "sample_digit_batch = next(iter(digit_trainloader))\n",
    "sample_operator_batch = next(iter(operator_trainloader))\n",
    "\n",
    "print(f\"Digit batch - Images: {sample_digit_batch[0].shape}, Labels: {sample_digit_batch[1].shape}\")\n",
    "print(f\"Operator batch - Images: {sample_operator_batch[0].shape}, Labels: {sample_operator_batch[1].shape}\")\n",
    "\n",
    "# Check label distributions\n",
    "print(\"\\nLabel distributions:\")\n",
    "print(f\"Digit labels unique values: {torch.unique(sample_digit_batch[1])}\")\n",
    "print(f\"Operator labels unique values: {torch.unique(sample_operator_batch[1])}\")\n",
    "\n",
    "# Verify network output dimensions match number of classes\n",
    "with torch.no_grad():\n",
    "    digit_out = digit_net(sample_digit_batch[0].to(device))\n",
    "    operator_out = operator_net(sample_operator_batch[0].to(device))\n",
    "    print(\"\\nNetwork output dimensions:\")\n",
    "    print(f\"DigitNet output: {digit_out.shape}\")\n",
    "    print(f\"OperatorNet output: {operator_out.shape}\")\n"
   ]
  },
  {
   "cell_type": "code",
   "execution_count": 14,
   "metadata": {},
   "outputs": [
    {
     "name": "stdout",
     "output_type": "stream",
     "text": [
      "\n",
      "Diagnostic Information:\n",
      "Digit classes: ['0', '1', '2', '3', '4', '5', '6', '7', '8', '9']\n",
      "Number of digit classes: 10\n",
      "DigitNet output dimension: 10\n",
      "Operator classes: ['add', 'dec', 'div', 'eq', 'mul', 'sub', 'x', 'y', 'z']\n",
      "Number of operator classes: 9\n",
      "OperatorNet output dimension: 9\n"
     ]
    },
    {
     "name": "stderr",
     "output_type": "stream",
     "text": [
      "c:\\Users\\alexl\\AppData\\Local\\Programs\\Python\\Python312\\Lib\\site-packages\\torch\\optim\\lr_scheduler.py:62: UserWarning: The verbose parameter is deprecated. Please use get_last_lr() to access the learning rate.\n",
      "  warnings.warn(\n"
     ]
    },
    {
     "name": "stdout",
     "output_type": "stream",
     "text": [
      "\n",
      "Batch shapes:\n",
      "Digit batch - Images: torch.Size([32, 1, 32, 32]), Labels: torch.Size([32])\n",
      "Operator batch - Images: torch.Size([32, 1, 32, 32]), Labels: torch.Size([32])\n",
      "\n",
      "Label ranges:\n",
      "Digit labels: 0 to 9\n",
      "Operator labels: 0 to 8\n",
      "\n",
      "Class mappings:\n",
      "Digit classes: {'0': 0, '1': 1, '2': 2, '3': 3, '4': 4, '5': 5, '6': 6, '7': 7, '8': 8, '9': 9}\n",
      "Operator classes: {'add': 0, 'dec': 1, 'div': 2, 'eq': 3, 'mul': 4, 'sub': 5, 'x': 6, 'y': 7, 'z': 8}\n",
      "\n",
      "Epoch 1/50\n"
     ]
    },
    {
     "name": "stderr",
     "output_type": "stream",
     "text": [
      "Training Digit Net: 100%|██████████| 166/166 [00:12<00:00, 13.67it/s, loss=2.31]\n",
      "Training Operator Net: 100%|██████████| 149/149 [00:11<00:00, 13.12it/s, loss=2.19]\n"
     ]
    },
    {
     "name": "stdout",
     "output_type": "stream",
     "text": [
      "\n",
      "Digit Network Accuracy: 9.94%\n",
      "Operator Network Accuracy: 13.30%\n",
      "New best accuracy! Saved models.\n",
      "\n",
      "Epoch 1/50\n",
      "Time taken: 35.74 seconds\n",
      "Best Digit Accuracy: 9.94%\n",
      "Best Operator Accuracy: 13.30%\n",
      "\n",
      "Epoch 2/50\n"
     ]
    },
    {
     "name": "stderr",
     "output_type": "stream",
     "text": [
      "Training Digit Net: 100%|██████████| 166/166 [00:06<00:00, 24.75it/s, loss=2.3]\n",
      "Training Operator Net: 100%|██████████| 149/149 [00:06<00:00, 22.53it/s, loss=2.17]\n"
     ]
    },
    {
     "name": "stdout",
     "output_type": "stream",
     "text": [
      "\n",
      "Epoch 2/50\n",
      "Time taken: 13.32 seconds\n",
      "Best Digit Accuracy: 9.94%\n",
      "Best Operator Accuracy: 13.30%\n",
      "\n",
      "Epoch 3/50\n"
     ]
    },
    {
     "name": "stderr",
     "output_type": "stream",
     "text": [
      "Training Digit Net: 100%|██████████| 166/166 [00:06<00:00, 23.92it/s, loss=2.29]\n",
      "Training Operator Net: 100%|██████████| 149/149 [00:05<00:00, 26.27it/s, loss=2.16]\n"
     ]
    },
    {
     "name": "stdout",
     "output_type": "stream",
     "text": [
      "\n",
      "Epoch 3/50\n",
      "Time taken: 12.62 seconds\n",
      "Best Digit Accuracy: 9.94%\n",
      "Best Operator Accuracy: 13.30%\n",
      "\n",
      "Epoch 4/50\n"
     ]
    },
    {
     "name": "stderr",
     "output_type": "stream",
     "text": [
      "Training Digit Net: 100%|██████████| 166/166 [00:05<00:00, 28.40it/s, loss=2.29] \n",
      "Training Operator Net: 100%|██████████| 149/149 [00:05<00:00, 26.48it/s, loss=2.14]\n"
     ]
    },
    {
     "name": "stdout",
     "output_type": "stream",
     "text": [
      "\n",
      "Epoch 4/50\n",
      "Time taken: 11.48 seconds\n",
      "Best Digit Accuracy: 9.94%\n",
      "Best Operator Accuracy: 13.30%\n",
      "\n",
      "Epoch 5/50\n"
     ]
    },
    {
     "name": "stderr",
     "output_type": "stream",
     "text": [
      "Training Digit Net: 100%|██████████| 166/166 [00:05<00:00, 28.19it/s, loss=2.29]\n",
      "Training Operator Net: 100%|██████████| 149/149 [00:06<00:00, 22.79it/s, loss=2.12]\n"
     ]
    },
    {
     "name": "stdout",
     "output_type": "stream",
     "text": [
      "\n",
      "Epoch 5/50\n",
      "Time taken: 12.43 seconds\n",
      "Best Digit Accuracy: 9.94%\n",
      "Best Operator Accuracy: 13.30%\n",
      "\n",
      "Epoch 6/50\n"
     ]
    },
    {
     "name": "stderr",
     "output_type": "stream",
     "text": [
      "Training Digit Net: 100%|██████████| 166/166 [00:06<00:00, 25.08it/s, loss=2.28]\n",
      "Training Operator Net: 100%|██████████| 149/149 [00:06<00:00, 23.03it/s, loss=2.07]\n"
     ]
    },
    {
     "name": "stdout",
     "output_type": "stream",
     "text": [
      "\n",
      "Digit Network Accuracy: 18.53%\n",
      "Operator Network Accuracy: 47.05%\n",
      "New best accuracy! Saved models.\n",
      "\n",
      "Epoch 6/50\n",
      "Time taken: 26.05 seconds\n",
      "Best Digit Accuracy: 18.53%\n",
      "Best Operator Accuracy: 47.05%\n",
      "\n",
      "Epoch 7/50\n"
     ]
    },
    {
     "name": "stderr",
     "output_type": "stream",
     "text": [
      "Training Digit Net: 100%|██████████| 166/166 [00:06<00:00, 25.83it/s, loss=2.26]\n",
      "Training Operator Net: 100%|██████████| 149/149 [00:06<00:00, 23.16it/s, loss=1.8]\n"
     ]
    },
    {
     "name": "stdout",
     "output_type": "stream",
     "text": [
      "\n",
      "Epoch 7/50\n",
      "Time taken: 12.86 seconds\n",
      "Best Digit Accuracy: 18.53%\n",
      "Best Operator Accuracy: 47.05%\n",
      "\n",
      "Epoch 8/50\n"
     ]
    },
    {
     "name": "stderr",
     "output_type": "stream",
     "text": [
      "Training Digit Net: 100%|██████████| 166/166 [00:06<00:00, 24.57it/s, loss=2.23]\n",
      "Training Operator Net: 100%|██████████| 149/149 [00:06<00:00, 23.07it/s, loss=1.37]\n"
     ]
    },
    {
     "name": "stdout",
     "output_type": "stream",
     "text": [
      "\n",
      "Epoch 8/50\n",
      "Time taken: 13.22 seconds\n",
      "Best Digit Accuracy: 18.53%\n",
      "Best Operator Accuracy: 47.05%\n",
      "\n",
      "Epoch 9/50\n"
     ]
    },
    {
     "name": "stderr",
     "output_type": "stream",
     "text": [
      "Training Digit Net: 100%|██████████| 166/166 [00:06<00:00, 26.16it/s, loss=2.17]\n",
      "Training Operator Net: 100%|██████████| 149/149 [00:06<00:00, 24.17it/s, loss=1.11]\n"
     ]
    },
    {
     "name": "stdout",
     "output_type": "stream",
     "text": [
      "\n",
      "Epoch 9/50\n",
      "Time taken: 12.51 seconds\n",
      "Best Digit Accuracy: 18.53%\n",
      "Best Operator Accuracy: 47.05%\n",
      "\n",
      "Epoch 10/50\n"
     ]
    },
    {
     "name": "stderr",
     "output_type": "stream",
     "text": [
      "Training Digit Net: 100%|██████████| 166/166 [00:06<00:00, 26.50it/s, loss=1.96]\n",
      "Training Operator Net: 100%|██████████| 149/149 [00:06<00:00, 24.33it/s, loss=0.99]\n"
     ]
    },
    {
     "name": "stdout",
     "output_type": "stream",
     "text": [
      "\n",
      "Epoch 10/50\n",
      "Time taken: 12.39 seconds\n",
      "Best Digit Accuracy: 18.53%\n",
      "Best Operator Accuracy: 47.05%\n",
      "\n",
      "Epoch 11/50\n"
     ]
    },
    {
     "name": "stderr",
     "output_type": "stream",
     "text": [
      "Training Digit Net: 100%|██████████| 166/166 [00:06<00:00, 24.80it/s, loss=1.71]\n",
      "Training Operator Net: 100%|██████████| 149/149 [00:06<00:00, 23.88it/s, loss=0.886]\n"
     ]
    },
    {
     "name": "stdout",
     "output_type": "stream",
     "text": [
      "\n",
      "Digit Network Accuracy: 45.74%\n",
      "Operator Network Accuracy: 73.51%\n",
      "New best accuracy! Saved models.\n",
      "\n",
      "Epoch 11/50\n",
      "Time taken: 25.35 seconds\n",
      "Best Digit Accuracy: 45.74%\n",
      "Best Operator Accuracy: 73.51%\n",
      "\n",
      "Epoch 12/50\n"
     ]
    },
    {
     "name": "stderr",
     "output_type": "stream",
     "text": [
      "Training Digit Net: 100%|██████████| 166/166 [00:06<00:00, 25.40it/s, loss=1.57]\n",
      "Training Operator Net: 100%|██████████| 149/149 [00:06<00:00, 23.96it/s, loss=0.765]\n"
     ]
    },
    {
     "name": "stdout",
     "output_type": "stream",
     "text": [
      "\n",
      "Epoch 12/50\n",
      "Time taken: 12.76 seconds\n",
      "Best Digit Accuracy: 45.74%\n",
      "Best Operator Accuracy: 73.51%\n",
      "\n",
      "Epoch 13/50\n"
     ]
    },
    {
     "name": "stderr",
     "output_type": "stream",
     "text": [
      "Training Digit Net: 100%|██████████| 166/166 [00:06<00:00, 26.47it/s, loss=1.51]\n",
      "Training Operator Net: 100%|██████████| 149/149 [00:06<00:00, 23.48it/s, loss=0.655]\n"
     ]
    },
    {
     "name": "stdout",
     "output_type": "stream",
     "text": [
      "\n",
      "Epoch 13/50\n",
      "Time taken: 12.62 seconds\n",
      "Best Digit Accuracy: 45.74%\n",
      "Best Operator Accuracy: 73.51%\n",
      "\n",
      "Epoch 14/50\n"
     ]
    },
    {
     "name": "stderr",
     "output_type": "stream",
     "text": [
      "Training Digit Net: 100%|██████████| 166/166 [00:06<00:00, 26.00it/s, loss=1.45]\n",
      "Training Operator Net: 100%|██████████| 149/149 [00:06<00:00, 23.68it/s, loss=0.57]\n"
     ]
    },
    {
     "name": "stdout",
     "output_type": "stream",
     "text": [
      "\n",
      "Epoch 14/50\n",
      "Time taken: 12.68 seconds\n",
      "Best Digit Accuracy: 45.74%\n",
      "Best Operator Accuracy: 73.51%\n",
      "\n",
      "Epoch 15/50\n"
     ]
    },
    {
     "name": "stderr",
     "output_type": "stream",
     "text": [
      "Training Digit Net: 100%|██████████| 166/166 [00:06<00:00, 24.75it/s, loss=1.38]\n",
      "Training Operator Net: 100%|██████████| 149/149 [00:06<00:00, 23.62it/s, loss=0.514]\n"
     ]
    },
    {
     "name": "stdout",
     "output_type": "stream",
     "text": [
      "\n",
      "Epoch 15/50\n",
      "Time taken: 13.02 seconds\n",
      "Best Digit Accuracy: 45.74%\n",
      "Best Operator Accuracy: 73.51%\n",
      "\n",
      "Epoch 16/50\n"
     ]
    },
    {
     "name": "stderr",
     "output_type": "stream",
     "text": [
      "Training Digit Net: 100%|██████████| 166/166 [00:06<00:00, 25.17it/s, loss=1.25]\n",
      "Training Operator Net: 100%|██████████| 149/149 [00:06<00:00, 23.28it/s, loss=0.429]\n"
     ]
    },
    {
     "name": "stdout",
     "output_type": "stream",
     "text": [
      "\n",
      "Digit Network Accuracy: 61.99%\n",
      "Operator Network Accuracy: 86.34%\n",
      "New best accuracy! Saved models.\n",
      "\n",
      "Epoch 16/50\n",
      "Time taken: 26.02 seconds\n",
      "Best Digit Accuracy: 61.99%\n",
      "Best Operator Accuracy: 86.34%\n",
      "\n",
      "Epoch 17/50\n"
     ]
    },
    {
     "name": "stderr",
     "output_type": "stream",
     "text": [
      "Training Digit Net: 100%|██████████| 166/166 [00:06<00:00, 25.06it/s, loss=1.17]\n",
      "Training Operator Net: 100%|██████████| 149/149 [00:06<00:00, 23.09it/s, loss=0.401]\n"
     ]
    },
    {
     "name": "stdout",
     "output_type": "stream",
     "text": [
      "\n",
      "Epoch 17/50\n",
      "Time taken: 13.08 seconds\n",
      "Best Digit Accuracy: 61.99%\n",
      "Best Operator Accuracy: 86.34%\n",
      "\n",
      "Epoch 18/50\n"
     ]
    },
    {
     "name": "stderr",
     "output_type": "stream",
     "text": [
      "Training Digit Net: 100%|██████████| 166/166 [00:06<00:00, 25.97it/s, loss=1.05]\n",
      "Training Operator Net: 100%|██████████| 149/149 [00:05<00:00, 26.29it/s, loss=0.378]\n"
     ]
    },
    {
     "name": "stdout",
     "output_type": "stream",
     "text": [
      "\n",
      "Epoch 18/50\n",
      "Time taken: 12.06 seconds\n",
      "Best Digit Accuracy: 61.99%\n",
      "Best Operator Accuracy: 86.34%\n",
      "\n",
      "Epoch 19/50\n"
     ]
    },
    {
     "name": "stderr",
     "output_type": "stream",
     "text": [
      "Training Digit Net: 100%|██████████| 166/166 [00:06<00:00, 25.50it/s, loss=0.927]\n",
      "Training Operator Net: 100%|██████████| 149/149 [00:06<00:00, 24.14it/s, loss=0.334]\n"
     ]
    },
    {
     "name": "stdout",
     "output_type": "stream",
     "text": [
      "\n",
      "Epoch 19/50\n",
      "Time taken: 12.68 seconds\n",
      "Best Digit Accuracy: 61.99%\n",
      "Best Operator Accuracy: 86.34%\n",
      "\n",
      "Epoch 20/50\n"
     ]
    },
    {
     "name": "stderr",
     "output_type": "stream",
     "text": [
      "Training Digit Net: 100%|██████████| 166/166 [00:06<00:00, 23.99it/s, loss=0.836]\n",
      "Training Operator Net: 100%|██████████| 149/149 [00:06<00:00, 22.39it/s, loss=0.309]\n"
     ]
    },
    {
     "name": "stdout",
     "output_type": "stream",
     "text": [
      "\n",
      "Epoch 20/50\n",
      "Time taken: 13.58 seconds\n",
      "Best Digit Accuracy: 61.99%\n",
      "Best Operator Accuracy: 86.34%\n",
      "\n",
      "Epoch 21/50\n"
     ]
    },
    {
     "name": "stderr",
     "output_type": "stream",
     "text": [
      "Training Digit Net: 100%|██████████| 166/166 [00:06<00:00, 24.39it/s, loss=0.764]\n",
      "Training Operator Net: 100%|██████████| 149/149 [00:06<00:00, 22.70it/s, loss=0.277]\n"
     ]
    },
    {
     "name": "stdout",
     "output_type": "stream",
     "text": [
      "\n",
      "Digit Network Accuracy: 78.81%\n",
      "Operator Network Accuracy: 91.82%\n",
      "New best accuracy! Saved models.\n",
      "\n",
      "Epoch 21/50\n",
      "Time taken: 26.35 seconds\n",
      "Best Digit Accuracy: 78.81%\n",
      "Best Operator Accuracy: 91.82%\n",
      "\n",
      "Epoch 22/50\n"
     ]
    },
    {
     "name": "stderr",
     "output_type": "stream",
     "text": [
      "Training Digit Net: 100%|██████████| 166/166 [00:07<00:00, 23.62it/s, loss=0.66]\n",
      "Training Operator Net: 100%|██████████| 149/149 [00:06<00:00, 21.92it/s, loss=0.251]\n"
     ]
    },
    {
     "name": "stdout",
     "output_type": "stream",
     "text": [
      "\n",
      "Epoch 22/50\n",
      "Time taken: 13.83 seconds\n",
      "Best Digit Accuracy: 78.81%\n",
      "Best Operator Accuracy: 91.82%\n",
      "\n",
      "Epoch 23/50\n"
     ]
    },
    {
     "name": "stderr",
     "output_type": "stream",
     "text": [
      "Training Digit Net: 100%|██████████| 166/166 [00:06<00:00, 23.96it/s, loss=0.616]\n",
      "Training Operator Net: 100%|██████████| 149/149 [00:06<00:00, 22.35it/s, loss=0.231]\n"
     ]
    },
    {
     "name": "stdout",
     "output_type": "stream",
     "text": [
      "\n",
      "Epoch 23/50\n",
      "Time taken: 13.60 seconds\n",
      "Best Digit Accuracy: 78.81%\n",
      "Best Operator Accuracy: 91.82%\n",
      "\n",
      "Epoch 24/50\n"
     ]
    },
    {
     "name": "stderr",
     "output_type": "stream",
     "text": [
      "Training Digit Net: 100%|██████████| 166/166 [00:06<00:00, 25.10it/s, loss=0.539]\n",
      "Training Operator Net: 100%|██████████| 149/149 [00:06<00:00, 22.60it/s, loss=0.21]\n"
     ]
    },
    {
     "name": "stdout",
     "output_type": "stream",
     "text": [
      "\n",
      "Epoch 24/50\n",
      "Time taken: 13.21 seconds\n",
      "Best Digit Accuracy: 78.81%\n",
      "Best Operator Accuracy: 91.82%\n",
      "\n",
      "Epoch 25/50\n"
     ]
    },
    {
     "name": "stderr",
     "output_type": "stream",
     "text": [
      "Training Digit Net: 100%|██████████| 166/166 [00:06<00:00, 23.79it/s, loss=0.482]\n",
      "Training Operator Net: 100%|██████████| 149/149 [00:06<00:00, 22.44it/s, loss=0.186]\n"
     ]
    },
    {
     "name": "stdout",
     "output_type": "stream",
     "text": [
      "\n",
      "Epoch 25/50\n",
      "Time taken: 13.62 seconds\n",
      "Best Digit Accuracy: 78.81%\n",
      "Best Operator Accuracy: 91.82%\n",
      "\n",
      "Epoch 26/50\n"
     ]
    },
    {
     "name": "stderr",
     "output_type": "stream",
     "text": [
      "Training Digit Net: 100%|██████████| 166/166 [00:06<00:00, 25.65it/s, loss=0.442]\n",
      "Training Operator Net: 100%|██████████| 149/149 [00:06<00:00, 23.92it/s, loss=0.18]\n"
     ]
    },
    {
     "name": "stdout",
     "output_type": "stream",
     "text": [
      "\n",
      "Digit Network Accuracy: 88.05%\n",
      "Operator Network Accuracy: 93.69%\n",
      "New best accuracy! Saved models.\n",
      "\n",
      "Epoch 26/50\n",
      "Time taken: 25.40 seconds\n",
      "Best Digit Accuracy: 88.05%\n",
      "Best Operator Accuracy: 93.69%\n",
      "\n",
      "Epoch 27/50\n"
     ]
    },
    {
     "name": "stderr",
     "output_type": "stream",
     "text": [
      "Training Digit Net: 100%|██████████| 166/166 [00:06<00:00, 24.59it/s, loss=0.426]\n",
      "Training Operator Net: 100%|██████████| 149/149 [00:06<00:00, 22.20it/s, loss=0.169]\n"
     ]
    },
    {
     "name": "stdout",
     "output_type": "stream",
     "text": [
      "\n",
      "Epoch 27/50\n",
      "Time taken: 13.47 seconds\n",
      "Best Digit Accuracy: 88.05%\n",
      "Best Operator Accuracy: 93.69%\n",
      "\n",
      "Epoch 28/50\n"
     ]
    },
    {
     "name": "stderr",
     "output_type": "stream",
     "text": [
      "Training Digit Net: 100%|██████████| 166/166 [00:06<00:00, 25.46it/s, loss=0.361]\n",
      "Training Operator Net: 100%|██████████| 149/149 [00:06<00:00, 23.62it/s, loss=0.146]\n"
     ]
    },
    {
     "name": "stdout",
     "output_type": "stream",
     "text": [
      "\n",
      "Epoch 28/50\n",
      "Time taken: 12.83 seconds\n",
      "Best Digit Accuracy: 88.05%\n",
      "Best Operator Accuracy: 93.69%\n",
      "\n",
      "Epoch 29/50\n"
     ]
    },
    {
     "name": "stderr",
     "output_type": "stream",
     "text": [
      "Training Digit Net: 100%|██████████| 166/166 [00:06<00:00, 25.57it/s, loss=0.316]\n",
      "Training Operator Net: 100%|██████████| 149/149 [00:06<00:00, 24.04it/s, loss=0.127]\n"
     ]
    },
    {
     "name": "stdout",
     "output_type": "stream",
     "text": [
      "\n",
      "Epoch 29/50\n",
      "Time taken: 12.69 seconds\n",
      "Best Digit Accuracy: 88.05%\n",
      "Best Operator Accuracy: 93.69%\n",
      "\n",
      "Epoch 30/50\n"
     ]
    },
    {
     "name": "stderr",
     "output_type": "stream",
     "text": [
      "Training Digit Net: 100%|██████████| 166/166 [00:06<00:00, 24.91it/s, loss=0.31]\n",
      "Training Operator Net: 100%|██████████| 149/149 [00:06<00:00, 22.94it/s, loss=0.122]\n"
     ]
    },
    {
     "name": "stdout",
     "output_type": "stream",
     "text": [
      "\n",
      "Epoch 30/50\n",
      "Time taken: 13.16 seconds\n",
      "Best Digit Accuracy: 88.05%\n",
      "Best Operator Accuracy: 93.69%\n",
      "\n",
      "Epoch 31/50\n"
     ]
    },
    {
     "name": "stderr",
     "output_type": "stream",
     "text": [
      "Training Digit Net: 100%|██████████| 166/166 [00:06<00:00, 25.21it/s, loss=0.29]\n",
      "Training Operator Net: 100%|██████████| 149/149 [00:06<00:00, 23.78it/s, loss=0.123]\n"
     ]
    },
    {
     "name": "stdout",
     "output_type": "stream",
     "text": [
      "\n",
      "Digit Network Accuracy: 91.46%\n",
      "Operator Network Accuracy: 97.15%\n",
      "New best accuracy! Saved models.\n",
      "\n",
      "Epoch 31/50\n",
      "Time taken: 25.57 seconds\n",
      "Best Digit Accuracy: 91.46%\n",
      "Best Operator Accuracy: 97.15%\n",
      "\n",
      "Epoch 32/50\n"
     ]
    },
    {
     "name": "stderr",
     "output_type": "stream",
     "text": [
      "Training Digit Net: 100%|██████████| 166/166 [00:06<00:00, 25.34it/s, loss=0.267]\n",
      "Training Operator Net: 100%|██████████| 149/149 [00:06<00:00, 23.14it/s, loss=0.109]\n"
     ]
    },
    {
     "name": "stdout",
     "output_type": "stream",
     "text": [
      "\n",
      "Epoch 32/50\n",
      "Time taken: 12.99 seconds\n",
      "Best Digit Accuracy: 91.46%\n",
      "Best Operator Accuracy: 97.15%\n",
      "\n",
      "Epoch 33/50\n"
     ]
    },
    {
     "name": "stderr",
     "output_type": "stream",
     "text": [
      "Training Digit Net: 100%|██████████| 166/166 [00:06<00:00, 25.37it/s, loss=0.248]\n",
      "Training Operator Net: 100%|██████████| 149/149 [00:06<00:00, 23.29it/s, loss=0.104]\n"
     ]
    },
    {
     "name": "stdout",
     "output_type": "stream",
     "text": [
      "\n",
      "Epoch 33/50\n",
      "Time taken: 12.94 seconds\n",
      "Best Digit Accuracy: 91.46%\n",
      "Best Operator Accuracy: 97.15%\n",
      "\n",
      "Epoch 34/50\n"
     ]
    },
    {
     "name": "stderr",
     "output_type": "stream",
     "text": [
      "Training Digit Net: 100%|██████████| 166/166 [00:06<00:00, 24.48it/s, loss=0.209]\n",
      "Training Operator Net: 100%|██████████| 149/149 [00:06<00:00, 22.98it/s, loss=0.0929]\n"
     ]
    },
    {
     "name": "stdout",
     "output_type": "stream",
     "text": [
      "\n",
      "Epoch 34/50\n",
      "Time taken: 13.27 seconds\n",
      "Best Digit Accuracy: 91.46%\n",
      "Best Operator Accuracy: 97.15%\n",
      "\n",
      "Epoch 35/50\n"
     ]
    },
    {
     "name": "stderr",
     "output_type": "stream",
     "text": [
      "Training Digit Net: 100%|██████████| 166/166 [00:06<00:00, 24.83it/s, loss=0.205]\n",
      "Training Operator Net: 100%|██████████| 149/149 [00:06<00:00, 23.50it/s, loss=0.0868]\n"
     ]
    },
    {
     "name": "stdout",
     "output_type": "stream",
     "text": [
      "\n",
      "Epoch 35/50\n",
      "Time taken: 13.03 seconds\n",
      "Best Digit Accuracy: 91.46%\n",
      "Best Operator Accuracy: 97.15%\n",
      "\n",
      "Epoch 36/50\n"
     ]
    },
    {
     "name": "stderr",
     "output_type": "stream",
     "text": [
      "Training Digit Net: 100%|██████████| 166/166 [00:06<00:00, 24.19it/s, loss=0.179]\n",
      "Training Operator Net: 100%|██████████| 149/149 [00:06<00:00, 22.91it/s, loss=0.0752]\n"
     ]
    },
    {
     "name": "stdout",
     "output_type": "stream",
     "text": [
      "\n",
      "Digit Network Accuracy: 95.66%\n",
      "Operator Network Accuracy: 95.89%\n",
      "New best accuracy! Saved models.\n",
      "\n",
      "Epoch 36/50\n",
      "Time taken: 26.19 seconds\n",
      "Best Digit Accuracy: 95.66%\n",
      "Best Operator Accuracy: 97.15%\n",
      "\n",
      "Epoch 37/50\n"
     ]
    },
    {
     "name": "stderr",
     "output_type": "stream",
     "text": [
      "Training Digit Net: 100%|██████████| 166/166 [00:06<00:00, 24.45it/s, loss=0.187]\n",
      "Training Operator Net: 100%|██████████| 149/149 [00:06<00:00, 22.60it/s, loss=0.094]\n"
     ]
    },
    {
     "name": "stdout",
     "output_type": "stream",
     "text": [
      "\n",
      "Epoch 37/50\n",
      "Time taken: 13.38 seconds\n",
      "Best Digit Accuracy: 95.66%\n",
      "Best Operator Accuracy: 97.15%\n",
      "\n",
      "Epoch 38/50\n"
     ]
    },
    {
     "name": "stderr",
     "output_type": "stream",
     "text": [
      "Training Digit Net: 100%|██████████| 166/166 [00:07<00:00, 22.56it/s, loss=0.168]\n",
      "Training Operator Net: 100%|██████████| 149/149 [00:06<00:00, 22.43it/s, loss=0.0622]\n"
     ]
    },
    {
     "name": "stdout",
     "output_type": "stream",
     "text": [
      "\n",
      "Epoch 38/50\n",
      "Time taken: 14.00 seconds\n",
      "Best Digit Accuracy: 95.66%\n",
      "Best Operator Accuracy: 97.15%\n",
      "\n",
      "Epoch 39/50\n"
     ]
    },
    {
     "name": "stderr",
     "output_type": "stream",
     "text": [
      "Training Digit Net: 100%|██████████| 166/166 [00:07<00:00, 23.17it/s, loss=0.161]\n",
      "Training Operator Net: 100%|██████████| 149/149 [00:06<00:00, 22.91it/s, loss=0.0619]\n"
     ]
    },
    {
     "name": "stdout",
     "output_type": "stream",
     "text": [
      "\n",
      "Epoch 39/50\n",
      "Time taken: 13.67 seconds\n",
      "Best Digit Accuracy: 95.66%\n",
      "Best Operator Accuracy: 97.15%\n",
      "\n",
      "Epoch 40/50\n"
     ]
    },
    {
     "name": "stderr",
     "output_type": "stream",
     "text": [
      "Training Digit Net: 100%|██████████| 166/166 [00:06<00:00, 23.85it/s, loss=0.146]\n",
      "Training Operator Net: 100%|██████████| 149/149 [00:06<00:00, 22.66it/s, loss=0.0603]\n"
     ]
    },
    {
     "name": "stdout",
     "output_type": "stream",
     "text": [
      "\n",
      "Epoch 40/50\n",
      "Time taken: 13.54 seconds\n",
      "Best Digit Accuracy: 95.66%\n",
      "Best Operator Accuracy: 97.15%\n",
      "\n",
      "Epoch 41/50\n"
     ]
    },
    {
     "name": "stderr",
     "output_type": "stream",
     "text": [
      "Training Digit Net: 100%|██████████| 166/166 [00:06<00:00, 24.02it/s, loss=0.119]\n",
      "Training Operator Net: 100%|██████████| 149/149 [00:06<00:00, 21.71it/s, loss=0.0602]\n"
     ]
    },
    {
     "name": "stdout",
     "output_type": "stream",
     "text": [
      "\n",
      "Digit Network Accuracy: 95.89%\n",
      "Operator Network Accuracy: 98.36%\n",
      "New best accuracy! Saved models.\n",
      "\n",
      "Epoch 41/50\n",
      "Time taken: 27.25 seconds\n",
      "Best Digit Accuracy: 95.89%\n",
      "Best Operator Accuracy: 98.36%\n",
      "\n",
      "Epoch 42/50\n"
     ]
    },
    {
     "name": "stderr",
     "output_type": "stream",
     "text": [
      "Training Digit Net: 100%|██████████| 166/166 [00:07<00:00, 22.61it/s, loss=0.119]\n",
      "Training Operator Net: 100%|██████████| 149/149 [00:06<00:00, 22.25it/s, loss=0.0503]\n"
     ]
    },
    {
     "name": "stdout",
     "output_type": "stream",
     "text": [
      "\n",
      "Epoch 42/50\n",
      "Time taken: 14.04 seconds\n",
      "Best Digit Accuracy: 95.89%\n",
      "Best Operator Accuracy: 98.36%\n",
      "\n",
      "Epoch 43/50\n"
     ]
    },
    {
     "name": "stderr",
     "output_type": "stream",
     "text": [
      "Training Digit Net: 100%|██████████| 166/166 [00:06<00:00, 24.56it/s, loss=0.109]\n",
      "Training Operator Net: 100%|██████████| 149/149 [00:06<00:00, 22.19it/s, loss=0.0481]\n"
     ]
    },
    {
     "name": "stdout",
     "output_type": "stream",
     "text": [
      "\n",
      "Epoch 43/50\n",
      "Time taken: 13.48 seconds\n",
      "Best Digit Accuracy: 95.89%\n",
      "Best Operator Accuracy: 98.36%\n",
      "\n",
      "Epoch 44/50\n"
     ]
    },
    {
     "name": "stderr",
     "output_type": "stream",
     "text": [
      "Training Digit Net: 100%|██████████| 166/166 [00:06<00:00, 23.90it/s, loss=0.101]\n",
      "Training Operator Net: 100%|██████████| 149/149 [00:06<00:00, 23.32it/s, loss=0.0511]\n"
     ]
    },
    {
     "name": "stdout",
     "output_type": "stream",
     "text": [
      "\n",
      "Epoch 44/50\n",
      "Time taken: 13.34 seconds\n",
      "Best Digit Accuracy: 95.89%\n",
      "Best Operator Accuracy: 98.36%\n",
      "\n",
      "Epoch 45/50\n"
     ]
    },
    {
     "name": "stderr",
     "output_type": "stream",
     "text": [
      "Training Digit Net: 100%|██████████| 166/166 [00:06<00:00, 23.82it/s, loss=0.0868]\n",
      "Training Operator Net: 100%|██████████| 149/149 [00:06<00:00, 23.73it/s, loss=0.0433]\n"
     ]
    },
    {
     "name": "stdout",
     "output_type": "stream",
     "text": [
      "\n",
      "Epoch 45/50\n",
      "Time taken: 13.25 seconds\n",
      "Best Digit Accuracy: 95.89%\n",
      "Best Operator Accuracy: 98.36%\n",
      "\n",
      "Epoch 46/50\n"
     ]
    },
    {
     "name": "stderr",
     "output_type": "stream",
     "text": [
      "Training Digit Net: 100%|██████████| 166/166 [00:06<00:00, 24.83it/s, loss=0.0897]\n",
      "Training Operator Net: 100%|██████████| 149/149 [00:06<00:00, 23.40it/s, loss=0.0479]\n"
     ]
    },
    {
     "name": "stdout",
     "output_type": "stream",
     "text": [
      "\n",
      "Digit Network Accuracy: 97.66%\n",
      "Operator Network Accuracy: 99.18%\n",
      "New best accuracy! Saved models.\n",
      "\n",
      "Epoch 46/50\n",
      "Time taken: 25.75 seconds\n",
      "Best Digit Accuracy: 97.66%\n",
      "Best Operator Accuracy: 99.18%\n",
      "\n",
      "Epoch 47/50\n"
     ]
    },
    {
     "name": "stderr",
     "output_type": "stream",
     "text": [
      "Training Digit Net: 100%|██████████| 166/166 [00:06<00:00, 24.17it/s, loss=0.0896]\n",
      "Training Operator Net: 100%|██████████| 149/149 [00:06<00:00, 22.08it/s, loss=0.0394]\n"
     ]
    },
    {
     "name": "stdout",
     "output_type": "stream",
     "text": [
      "\n",
      "Epoch 47/50\n",
      "Time taken: 13.62 seconds\n",
      "Best Digit Accuracy: 97.66%\n",
      "Best Operator Accuracy: 99.18%\n",
      "\n",
      "Epoch 48/50\n"
     ]
    },
    {
     "name": "stderr",
     "output_type": "stream",
     "text": [
      "Training Digit Net: 100%|██████████| 166/166 [00:06<00:00, 23.87it/s, loss=0.0786]\n",
      "Training Operator Net: 100%|██████████| 149/149 [00:06<00:00, 22.50it/s, loss=0.0364]\n"
     ]
    },
    {
     "name": "stdout",
     "output_type": "stream",
     "text": [
      "\n",
      "Epoch 48/50\n",
      "Time taken: 13.58 seconds\n",
      "Best Digit Accuracy: 97.66%\n",
      "Best Operator Accuracy: 99.18%\n",
      "\n",
      "Epoch 49/50\n"
     ]
    },
    {
     "name": "stderr",
     "output_type": "stream",
     "text": [
      "Training Digit Net: 100%|██████████| 166/166 [00:06<00:00, 25.63it/s, loss=0.0657]\n",
      "Training Operator Net: 100%|██████████| 149/149 [00:06<00:00, 23.39it/s, loss=0.0309]\n"
     ]
    },
    {
     "name": "stdout",
     "output_type": "stream",
     "text": [
      "\n",
      "Epoch 49/50\n",
      "Time taken: 12.85 seconds\n",
      "Best Digit Accuracy: 97.66%\n",
      "Best Operator Accuracy: 99.18%\n",
      "\n",
      "Epoch 50/50\n"
     ]
    },
    {
     "name": "stderr",
     "output_type": "stream",
     "text": [
      "Training Digit Net: 100%|██████████| 166/166 [00:06<00:00, 25.22it/s, loss=0.0611]\n",
      "Training Operator Net: 100%|██████████| 149/149 [00:06<00:00, 23.12it/s, loss=0.034]"
     ]
    },
    {
     "name": "stdout",
     "output_type": "stream",
     "text": [
      "\n",
      "Epoch 50/50\n",
      "Time taken: 13.03 seconds\n",
      "Best Digit Accuracy: 97.66%\n",
      "Best Operator Accuracy: 99.18%\n",
      "Finished Training\n",
      "\n",
      "Saving final model weights...\n",
      "Final weights saved successfully:\n",
      "- Digit network: ./weights/digit_net_final.pth\n",
      "- Operator network: ./weights/operator_net_final.pth\n",
      "\n",
      "Best weights were saved during training:\n",
      "- Best digit network: ./weights/digit_net_best.pth\n",
      "- Best operator network: ./weights/operator_net_best.pth\n"
     ]
    },
    {
     "name": "stderr",
     "output_type": "stream",
     "text": [
      "\n"
     ]
    }
   ],
   "source": [
    "# Training parameters\n",
    "num_epochs = 50\n",
    "eval_interval = 5\n",
    "early_stopping_patience = 15\n",
    "best_digit_accuracy = 0\n",
    "best_operator_accuracy = 0\n",
    "epochs_without_improvement = 0\n",
    "\n",
    "# Get current date for logging\n",
    "training_date = datetime.now().strftime(\"%Y-%m-%d\")\n",
    "start_time = time.time()\n",
    "\n",
    "# Add learning rate scheduler\n",
    "digit_scheduler = ReduceLROnPlateau(digit_optimizer, mode='max', factor=0.1, patience=5, verbose=True)\n",
    "operator_scheduler = ReduceLROnPlateau(operator_optimizer, mode='max', factor=0.1, patience=5, verbose=True)\n",
    "\n",
    "# Diagnostic code to check dimensions and classes\n",
    "print(\"\\nDiagnostic Information:\")\n",
    "\n",
    "# Check digit dataset\n",
    "digit_classes = sorted(os.listdir('./data/digits'))\n",
    "print(f\"Digit classes: {digit_classes}\")\n",
    "print(f\"Number of digit classes: {len(digit_classes)}\")\n",
    "print(f\"DigitNet output dimension: {digit_net.fc3.out_features}\")\n",
    "\n",
    "# Check operator dataset\n",
    "operator_classes = sorted(os.listdir('./data/operators'))\n",
    "print(f\"Operator classes: {operator_classes}\")\n",
    "print(f\"Number of operator classes: {len(operator_classes)}\")\n",
    "print(f\"OperatorNet output dimension: {operator_net.fc3.out_features}\")\n",
    "\n",
    "# Check a batch of data\n",
    "digit_batch = next(iter(digit_trainloader))\n",
    "operator_batch = next(iter(operator_trainloader))\n",
    "\n",
    "print(\"\\nBatch shapes:\")\n",
    "print(f\"Digit batch - Images: {digit_batch[0].shape}, Labels: {digit_batch[1].shape}\")\n",
    "print(f\"Operator batch - Images: {operator_batch[0].shape}, Labels: {operator_batch[1].shape}\")\n",
    "\n",
    "print(\"\\nLabel ranges:\")\n",
    "print(f\"Digit labels: {digit_batch[1].min().item()} to {digit_batch[1].max().item()}\")\n",
    "print(f\"Operator labels: {operator_batch[1].min().item()} to {operator_batch[1].max().item()}\")\n",
    "\n",
    "\n",
    "# Add criterion definitions before training\n",
    "digit_criterion = nn.CrossEntropyLoss()\n",
    "operator_criterion = nn.CrossEntropyLoss()\n",
    "\n",
    "# Add dataset class mapping\n",
    "digit_dataset.class_to_idx  # Check the mapping of classes to indices\n",
    "operator_dataset.class_to_idx  # Check the mapping of classes to indices\n",
    "\n",
    "# Before training loop, add diagnostic prints\n",
    "print(\"\\nClass mappings:\")\n",
    "print(f\"Digit classes: {digit_dataset.class_to_idx}\")\n",
    "print(f\"Operator classes: {operator_dataset.class_to_idx}\")\n",
    "\n",
    "# Create weights directory if it doesn't exist\n",
    "os.makedirs('./weights', exist_ok=True)\n",
    "\n",
    "# Update paths for saving weights during training\n",
    "best_digit_path = './weights/digit_net_best.pth'\n",
    "best_operator_path = './weights/operator_net_best.pth'\n",
    "\n",
    "# Training loop\n",
    "for epoch in range(num_epochs):\n",
    "    print(f\"\\nEpoch {epoch+1}/{num_epochs}\")\n",
    "    \n",
    "    # Training digit network\n",
    "    digit_net.train()\n",
    "    digit_running_loss = 0.0\n",
    "    epoch_start = time.time()\n",
    "    \n",
    "    # Add progress bar\n",
    "    pbar = tqdm(digit_trainloader, desc=f\"Training Digit Net\")\n",
    "    for i, data in enumerate(pbar):\n",
    "        inputs, labels = data\n",
    "        inputs, labels = inputs.to(device), labels.to(device)\n",
    "        \n",
    "        digit_optimizer.zero_grad()\n",
    "        outputs = digit_net(inputs)\n",
    "        loss = digit_criterion(outputs, labels)\n",
    "        loss.backward()\n",
    "        digit_optimizer.step()\n",
    "        \n",
    "        digit_running_loss += loss.item()\n",
    "        if i % 100 == 99:\n",
    "            pbar.set_postfix({'loss': digit_running_loss/100})\n",
    "            digit_running_loss = 0.0\n",
    "    \n",
    "    # Training operator network\n",
    "    operator_net.train()\n",
    "    operator_running_loss = 0.0\n",
    "    \n",
    "    pbar = tqdm(operator_trainloader, desc=f\"Training Operator Net\")\n",
    "    for i, data in enumerate(pbar):\n",
    "        inputs, labels = data\n",
    "        inputs, labels = inputs.to(device), labels.to(device)\n",
    "        \n",
    "        operator_optimizer.zero_grad()\n",
    "        outputs = operator_net(inputs)\n",
    "        loss = operator_criterion(outputs, labels)\n",
    "        loss.backward()\n",
    "        operator_optimizer.step()\n",
    "        \n",
    "        operator_running_loss += loss.item()\n",
    "        if i % 100 == 99:\n",
    "            pbar.set_postfix({'loss': operator_running_loss/100})\n",
    "            operator_running_loss = 0.0\n",
    "    \n",
    "    # Evaluation every eval_interval epochs\n",
    "    if epoch % eval_interval == 0:\n",
    "        digit_net.eval()\n",
    "        operator_net.eval()\n",
    "        \n",
    "        # Evaluate digit network\n",
    "        correct = 0\n",
    "        total = 0\n",
    "        with torch.no_grad():\n",
    "            for data in digit_trainloader:\n",
    "                images, labels = data\n",
    "                images, labels = images.to(device), labels.to(device)\n",
    "                outputs = digit_net(images)\n",
    "                _, predicted = torch.max(outputs.data, 1)\n",
    "                total += labels.size(0)\n",
    "                correct += (predicted == labels).sum().item()\n",
    "        \n",
    "        current_digit_accuracy = 100 * correct / total\n",
    "        print(f\"\\nDigit Network Accuracy: {current_digit_accuracy:.2f}%\")\n",
    "        \n",
    "        # Evaluate operator network\n",
    "        correct = 0\n",
    "        total = 0\n",
    "        with torch.no_grad():\n",
    "            for data in operator_trainloader:\n",
    "                images, labels = data\n",
    "                images, labels = images.to(device), labels.to(device)\n",
    "                outputs = operator_net(images)\n",
    "                _, predicted = torch.max(outputs.data, 1)\n",
    "                total += labels.size(0)\n",
    "                correct += (predicted == labels).sum().item()\n",
    "        \n",
    "        current_operator_accuracy = 100 * correct / total\n",
    "        print(f\"Operator Network Accuracy: {current_operator_accuracy:.2f}%\")\n",
    "        \n",
    "        # Update schedulers\n",
    "        digit_scheduler.step(current_digit_accuracy)\n",
    "        operator_scheduler.step(current_operator_accuracy)\n",
    "        \n",
    "        # Check for improvement\n",
    "        if current_digit_accuracy > best_digit_accuracy or current_operator_accuracy > best_operator_accuracy:\n",
    "            best_digit_accuracy = max(best_digit_accuracy, current_digit_accuracy)\n",
    "            best_operator_accuracy = max(best_operator_accuracy, current_operator_accuracy)\n",
    "            torch.save(digit_net.state_dict(), best_digit_path)\n",
    "            torch.save(operator_net.state_dict(), best_operator_path)\n",
    "            epochs_without_improvement = 0\n",
    "            print(\"New best accuracy! Saved models.\")\n",
    "        else:\n",
    "            epochs_without_improvement += eval_interval\n",
    "        \n",
    "        # Early stopping check\n",
    "        if epochs_without_improvement >= early_stopping_patience:\n",
    "            print(\"\\nEarly stopping triggered!\")\n",
    "            break\n",
    "    \n",
    "    # Print epoch summary\n",
    "    epoch_time = time.time() - epoch_start\n",
    "    print(f\"\\nEpoch {epoch+1}/{num_epochs}\")\n",
    "    print(f\"Time taken: {epoch_time:.2f} seconds\")\n",
    "    print(f\"Best Digit Accuracy: {best_digit_accuracy:.2f}%\")\n",
    "    print(f\"Best Operator Accuracy: {best_operator_accuracy:.2f}%\")\n",
    "\n",
    "print('Finished Training')\n",
    "# Save final weights\n",
    "print(\"\\nSaving final model weights...\")\n",
    "try:\n",
    "    final_digit_path = './weights/digit_net_final.pth'\n",
    "    final_operator_path = './weights/operator_net_final.pth'\n",
    "    \n",
    "    torch.save(digit_net.state_dict(), final_digit_path)\n",
    "    torch.save(operator_net.state_dict(), final_operator_path)\n",
    "    \n",
    "    # Verify files were saved\n",
    "    if os.path.exists(final_digit_path) and os.path.exists(final_operator_path):\n",
    "        print(f\"Final weights saved successfully:\")\n",
    "        print(f\"- Digit network: {final_digit_path}\")\n",
    "        print(f\"- Operator network: {final_operator_path}\")\n",
    "    else:\n",
    "        print(\"Warning: Weight files not found after saving!\")\n",
    "except Exception as e:\n",
    "    print(f\"Error saving final weights: {e}\")\n",
    "\n",
    "\n",
    "\n",
    "if os.path.exists(best_digit_path) and os.path.exists(best_operator_path):\n",
    "    print(\"\\nBest weights were saved during training:\")\n",
    "    print(f\"- Best digit network: {best_digit_path}\")\n",
    "    print(f\"- Best operator network: {best_operator_path}\")\n",
    "else:\n",
    "    print(\"\\nWarning: Best weight files not found!\")"
   ]
  }
 ],
 "metadata": {
  "kernelspec": {
   "display_name": "Python 3",
   "language": "python",
   "name": "python3"
  },
  "language_info": {
   "codemirror_mode": {
    "name": "ipython",
    "version": 3
   },
   "file_extension": ".py",
   "mimetype": "text/x-python",
   "name": "python",
   "nbconvert_exporter": "python",
   "pygments_lexer": "ipython3",
   "version": "3.12.7"
  }
 },
 "nbformat": 4,
 "nbformat_minor": 2
}
