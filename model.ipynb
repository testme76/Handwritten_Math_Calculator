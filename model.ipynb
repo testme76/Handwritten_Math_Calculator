{
 "cells": [
  {
   "cell_type": "code",
   "execution_count": 26,
   "metadata": {},
   "outputs": [
    {
     "name": "stdout",
     "output_type": "stream",
     "text": [
      "PyTorch version: 2.5.1+cu118\n",
      "CUDA available: True\n",
      "GPU device: NVIDIA GeForce RTX 4080 SUPER\n"
     ]
    }
   ],
   "source": [
    "import torch\n",
    "# Define device first\n",
    "device = torch.device(\"cuda:0\" if torch.cuda.is_available() else \"cpu\")\n",
    "print(f\"PyTorch version: {torch.__version__}\")\n",
    "print(f\"CUDA available: {torch.cuda.is_available()}\")\n",
    "if torch.cuda.is_available():\n",
    "    print(f\"GPU device: {torch.cuda.get_device_name()}\")"
   ]
  },
  {
   "cell_type": "code",
   "execution_count": 27,
   "metadata": {},
   "outputs": [],
   "source": [
    "# Enter your kaggle user name and key\n",
    "username = str('')\n",
    "key = str('')"
   ]
  },
  {
   "cell_type": "code",
   "execution_count": 28,
   "metadata": {},
   "outputs": [],
   "source": [
    "# All imports\n",
    "import torch\n",
    "import torch.optim as optim\n",
    "from torch.utils.data import Dataset, DataLoader\n",
    "from PIL import Image\n",
    "import os\n",
    "import shutil  # Add this import\n",
    "import torchvision\n",
    "import torchvision.transforms as transforms\n",
    "import matplotlib.pyplot as plt\n",
    "import numpy as np\n",
    "import torch.nn as nn\n",
    "import torch.nn.functional as F\n",
    "from datetime import datetime\n",
    "import time\n",
    "from torch.optim.lr_scheduler import ReduceLROnPlateau\n",
    "from tqdm import tqdm\n",
    "from datetime import datetime\n",
    "from torch.utils.data import random_split"
   ]
  },
  {
   "cell_type": "code",
   "execution_count": 29,
   "metadata": {},
   "outputs": [
    {
     "name": "stdout",
     "output_type": "stream",
     "text": [
      "\n",
      "Verifying credentials format:\n",
      "Username type: <class 'str'>\n",
      "Key type: <class 'str'>\n",
      "Kaggle credentials saved successfully\n",
      "Skipping, found downloaded files in \".\\handwritten-math-symbols\" (use force=True to force download)\n"
     ]
    }
   ],
   "source": [
    "# Download dataset from Kaggle\n",
    "import opendatasets as od\n",
    "import pandas\n",
    "import json\n",
    "\n",
    "# Create .kaggle directory if it doesn't exist\n",
    "os.makedirs(os.path.expanduser('~/.kaggle'), exist_ok=True)\n",
    "\n",
    "try:\n",
    "    kaggle_token = {\n",
    "        \"username\": username,\n",
    "        \"key\": key\n",
    "    }\n",
    "    \n",
    "    # Verify the data is string\n",
    "    print(\"\\nVerifying credentials format:\")\n",
    "    print(f\"Username type: {type(username)}\")\n",
    "    print(f\"Key type: {type(key)}\")\n",
    "    \n",
    "    with open(os.path.expanduser('~/.kaggle/kaggle.json'), 'w') as f:\n",
    "        json.dump(kaggle_token, f)\n",
    "    \n",
    "    print(\"Kaggle credentials saved successfully\")\n",
    "except Exception as e:\n",
    "    print(f\"Error saving Kaggle credentials: {e}\")\n",
    "    raise\n",
    "\n",
    "# Set permissions\n",
    "os.chmod(os.path.expanduser('~/.kaggle/kaggle.json'), 0o600)\n",
    "\n",
    "# Download dataset\n",
    "dataset_url = \"https://www.kaggle.com/datasets/sagyamthapa/handwritten-math-symbols\"\n",
    "od.download(dataset_url)"
   ]
  },
  {
   "cell_type": "code",
   "execution_count": 30,
   "metadata": {},
   "outputs": [
    {
     "name": "stdout",
     "output_type": "stream",
     "text": [
      "\n",
      "Starting extraction process...\n",
      "Looking for archive at: ./handwritten-math-symbols.zip\n",
      "Archive exists: False\n",
      "\n",
      "Starting file organization...\n",
      "Looking for source directory at: ./handwritten-math-symbols/dataset\n",
      "Source directory exists: True\n",
      "\n",
      "Moving digit folders...\n",
      "Copying ./handwritten-math-symbols/dataset\\0 to ./data/digits\\0\n",
      "Copying ./handwritten-math-symbols/dataset\\1 to ./data/digits\\1\n",
      "Copying ./handwritten-math-symbols/dataset\\2 to ./data/digits\\2\n",
      "Copying ./handwritten-math-symbols/dataset\\3 to ./data/digits\\3\n",
      "Copying ./handwritten-math-symbols/dataset\\4 to ./data/digits\\4\n",
      "Copying ./handwritten-math-symbols/dataset\\5 to ./data/digits\\5\n",
      "Copying ./handwritten-math-symbols/dataset\\6 to ./data/digits\\6\n",
      "Copying ./handwritten-math-symbols/dataset\\7 to ./data/digits\\7\n",
      "Copying ./handwritten-math-symbols/dataset\\8 to ./data/digits\\8\n",
      "Copying ./handwritten-math-symbols/dataset\\9 to ./data/digits\\9\n",
      "\n",
      "Moving operator folders...\n",
      "Copying ./handwritten-math-symbols/dataset\\add to ./data/operators\\add\n",
      "Copying ./handwritten-math-symbols/dataset\\sub to ./data/operators\\sub\n",
      "Copying ./handwritten-math-symbols/dataset\\mul to ./data/operators\\mul\n",
      "Copying ./handwritten-math-symbols/dataset\\div to ./data/operators\\div\n",
      "Copying ./handwritten-math-symbols/dataset\\eq to ./data/operators\\eq\n",
      "Copying ./handwritten-math-symbols/dataset\\dec to ./data/operators\\dec\n",
      "Copying ./handwritten-math-symbols/dataset\\x to ./data/operators\\x\n",
      "Copying ./handwritten-math-symbols/dataset\\y to ./data/operators\\y\n",
      "Copying ./handwritten-math-symbols/dataset\\z to ./data/operators\\z\n",
      "\n",
      "Verifying directory structure:\n",
      "\n",
      "Directory: ./data\n",
      "Subdirectories: ['digits', 'operators']\n",
      "Number of files: 0\n",
      "\n",
      "Directory: ./data\\digits\n",
      "Subdirectories: ['0', '1', '2', '3', '4', '5', '6', '7', '8', '9']\n",
      "Number of files: 0\n",
      "\n",
      "Directory: ./data\\digits\\0\n",
      "Subdirectories: []\n",
      "Number of files: 595\n",
      "\n",
      "Directory: ./data\\digits\\1\n",
      "Subdirectories: []\n",
      "Number of files: 562\n",
      "\n",
      "Directory: ./data\\digits\\2\n",
      "Subdirectories: []\n",
      "Number of files: 433\n",
      "\n",
      "Directory: ./data\\digits\\3\n",
      "Subdirectories: []\n",
      "Number of files: 541\n",
      "\n",
      "Directory: ./data\\digits\\4\n",
      "Subdirectories: []\n",
      "Number of files: 526\n",
      "\n",
      "Directory: ./data\\digits\\5\n",
      "Subdirectories: []\n",
      "Number of files: 433\n",
      "\n",
      "Directory: ./data\\digits\\6\n",
      "Subdirectories: []\n",
      "Number of files: 581\n",
      "\n",
      "Directory: ./data\\digits\\7\n",
      "Subdirectories: []\n",
      "Number of files: 533\n",
      "\n",
      "Directory: ./data\\digits\\8\n",
      "Subdirectories: []\n",
      "Number of files: 554\n",
      "\n",
      "Directory: ./data\\digits\\9\n",
      "Subdirectories: []\n",
      "Number of files: 547\n",
      "\n",
      "Directory: ./data\\operators\n",
      "Subdirectories: ['add', 'dec', 'div', 'eq', 'mul', 'sub', 'x', 'y', 'z']\n",
      "Number of files: 0\n",
      "\n",
      "Directory: ./data\\operators\\add\n",
      "Subdirectories: []\n",
      "Number of files: 596\n",
      "\n",
      "Directory: ./data\\operators\\dec\n",
      "Subdirectories: []\n",
      "Number of files: 624\n",
      "\n",
      "Directory: ./data\\operators\\div\n",
      "Subdirectories: []\n",
      "Number of files: 618\n",
      "\n",
      "Directory: ./data\\operators\\eq\n",
      "Subdirectories: []\n",
      "Number of files: 634\n",
      "\n",
      "Directory: ./data\\operators\\mul\n",
      "Subdirectories: []\n",
      "Number of files: 577\n",
      "\n",
      "Directory: ./data\\operators\\sub\n",
      "Subdirectories: []\n",
      "Number of files: 655\n",
      "\n",
      "Directory: ./data\\operators\\x\n",
      "Subdirectories: []\n",
      "Number of files: 452\n",
      "\n",
      "Directory: ./data\\operators\\y\n",
      "Subdirectories: []\n",
      "Number of files: 399\n",
      "\n",
      "Directory: ./data\\operators\\z\n",
      "Subdirectories: []\n",
      "Number of files: 212\n",
      "\n",
      "Verifying data in folders:\n",
      "\n",
      "Found digit classes: ['0', '1', '2', '3', '4', '5', '6', '7', '8', '9']\n",
      "Found operator classes: ['add', 'dec', 'div', 'eq', 'mul', 'sub', 'x', 'y', 'z']\n"
     ]
    }
   ],
   "source": [
    "# Extract dataset from archive with more detailed logging\n",
    "print(\"\\nStarting extraction process...\")\n",
    "dataset_path = \"./handwritten-math-symbols\"\n",
    "archive_path = f\"{dataset_path}.zip\"\n",
    "print(f\"Looking for archive at: {archive_path}\")\n",
    "print(f\"Archive exists: {os.path.exists(archive_path)}\")\n",
    "\n",
    "if os.path.exists(archive_path):\n",
    "    import zipfile\n",
    "    with zipfile.ZipFile(archive_path, 'r') as zip_ref:\n",
    "        # List contents of zip file\n",
    "        print(\"\\nContents of zip file:\")\n",
    "        for file in zip_ref.namelist()[:10]:  # Show first 10 files\n",
    "            print(f\"- {file}\")\n",
    "        print(\"...\")\n",
    "        \n",
    "        zip_ref.extractall(\"./\")\n",
    "    print(\"Dataset extracted successfully\")\n",
    "\n",
    "def verify_directory_structure():\n",
    "    \"\"\"Verify and print the directory structure\"\"\"\n",
    "    print(\"\\nVerifying directory structure:\")\n",
    "    for root, dirs, files in os.walk('./data'):\n",
    "        print(f\"\\nDirectory: {root}\")\n",
    "        print(f\"Subdirectories: {dirs}\")\n",
    "        print(f\"Number of files: {len(files)}\")\n",
    "\n",
    "# First organize the data\n",
    "print(\"\\nStarting file organization...\")\n",
    "source_dir = \"./handwritten-math-symbols/dataset\"\n",
    "print(f\"Looking for source directory at: {source_dir}\")\n",
    "print(f\"Source directory exists: {os.path.exists(source_dir)}\")\n",
    "\n",
    "if not os.path.exists(source_dir):\n",
    "    raise FileNotFoundError(f\"Source directory {source_dir} not found!\")\n",
    "\n",
    "# Create destination directories\n",
    "os.makedirs('./data/digits', exist_ok=True)\n",
    "os.makedirs('./data/operators', exist_ok=True)\n",
    "\n",
    "# Define which folders belong to digits and operators\n",
    "digit_folders = ['0', '1', '2', '3', '4', '5', '6', '7', '8', '9']\n",
    "operator_folders = ['add', 'sub', 'mul', 'div', 'eq', 'dec', 'x', 'y', 'z']\n",
    "\n",
    "# Move digit folders\n",
    "print(\"\\nMoving digit folders...\")\n",
    "for folder in digit_folders:\n",
    "    src = os.path.join(source_dir, folder)\n",
    "    dst = os.path.join('./data/digits', folder)\n",
    "    if os.path.exists(src):\n",
    "        print(f\"Copying {src} to {dst}\")\n",
    "        shutil.copytree(src, dst, dirs_exist_ok=True)\n",
    "    else:\n",
    "        print(f\"Warning: Source folder not found: {src}\")\n",
    "\n",
    "# Move operator folders\n",
    "print(\"\\nMoving operator folders...\")\n",
    "for folder in operator_folders:\n",
    "    src = os.path.join(source_dir, folder)\n",
    "    dst = os.path.join('./data/operators', folder)\n",
    "    if os.path.exists(src):\n",
    "        print(f\"Copying {src} to {dst}\")\n",
    "        shutil.copytree(src, dst, dirs_exist_ok=True)\n",
    "    else:\n",
    "        print(f\"Warning: Source folder not found: {src}\")\n",
    "\n",
    "# Verify the directory structure\n",
    "verify_directory_structure()\n",
    "\n",
    "# Verify that we have data in the folders\n",
    "print(\"\\nVerifying data in folders:\")\n",
    "digit_path = './data/digits'\n",
    "operator_path = './data/operators'\n",
    "\n",
    "if not os.path.exists(digit_path) or not os.path.exists(operator_path):\n",
    "    raise FileNotFoundError(\"Data directories not created properly!\")\n",
    "\n",
    "digit_classes = sorted(os.listdir(digit_path))\n",
    "operator_classes = sorted(os.listdir(operator_path))\n",
    "\n",
    "print(f\"\\nFound digit classes: {digit_classes}\")\n",
    "print(f\"Found operator classes: {operator_classes}\")\n",
    "\n",
    "if not digit_classes:\n",
    "    raise FileNotFoundError(\"No digit classes found!\")\n",
    "if not operator_classes:\n",
    "    raise FileNotFoundError(\"No operator classes found!\")\n"
   ]
  },
  {
   "cell_type": "code",
   "execution_count": 31,
   "metadata": {},
   "outputs": [
    {
     "name": "stdout",
     "output_type": "stream",
     "text": [
      "\n",
      "Digit dataset created successfully with 5304 images\n",
      "Operator dataset created successfully with 4767 images\n",
      "\n",
      "Creating dataset splits...\n",
      "Digit - Train: 4243, Val: 530, Test: 531\n",
      "Operator - Train: 3813, Val: 476, Test: 478\n",
      "\n",
      "Datasets and dataloaders created successfully!\n",
      "Number of digit classes: 10\n",
      "Number of operator classes: 9\n"
     ]
    }
   ],
   "source": [
    "# Create transforms\n",
    "transform = transforms.Compose([\n",
    "    transforms.Resize((32, 32)),\n",
    "    transforms.Grayscale(num_output_channels=1),\n",
    "    transforms.ToTensor(),\n",
    "    transforms.Normalize((0.5,), (0.5,))\n",
    "])\n",
    "\n",
    "# Create datasets with error handling\n",
    "try:\n",
    "    digit_dataset = torchvision.datasets.ImageFolder(\n",
    "        root='./data/digits',\n",
    "        transform=transform\n",
    "    )\n",
    "    print(f\"\\nDigit dataset created successfully with {len(digit_dataset)} images\")\n",
    "except Exception as e:\n",
    "    print(f\"Error creating digit dataset: {e}\")\n",
    "    raise\n",
    "\n",
    "try:\n",
    "    operator_dataset = torchvision.datasets.ImageFolder(\n",
    "        root='./data/operators',\n",
    "        transform=transform\n",
    "    )\n",
    "    print(f\"Operator dataset created successfully with {len(operator_dataset)} images\")\n",
    "except Exception as e:\n",
    "    print(f\"Error creating operator dataset: {e}\")\n",
    "    raise\n",
    "\n",
    "# Create dataset splits\n",
    "print(\"\\nCreating dataset splits...\")\n",
    "\n",
    "# For Digit Dataset\n",
    "total_digit_size = len(digit_dataset)\n",
    "train_digit_size = int(0.8 * total_digit_size)\n",
    "val_digit_size = int(0.1 * total_digit_size)\n",
    "test_digit_size = total_digit_size - train_digit_size - val_digit_size\n",
    "\n",
    "digit_train_dataset, digit_val_dataset, digit_test_dataset = random_split(\n",
    "    digit_dataset, \n",
    "    [train_digit_size, val_digit_size, test_digit_size]\n",
    ")\n",
    "\n",
    "# For Operator Dataset\n",
    "total_operator_size = len(operator_dataset)\n",
    "train_operator_size = int(0.8 * total_operator_size)\n",
    "val_operator_size = int(0.1 * total_operator_size)\n",
    "test_operator_size = total_operator_size - train_operator_size - val_operator_size\n",
    "\n",
    "operator_train_dataset, operator_val_dataset, operator_test_dataset = random_split(\n",
    "    operator_dataset, \n",
    "    [train_operator_size, val_operator_size, test_operator_size]\n",
    ")\n",
    "\n",
    "# Update the existing dataloaders to use training split\n",
    "digit_trainloader = torch.utils.data.DataLoader(\n",
    "    digit_train_dataset,\n",
    "    batch_size=32,\n",
    "    shuffle=True, \n",
    "    num_workers=2\n",
    "    )\n",
    "\n",
    "operator_trainloader = torch.utils.data.DataLoader(\n",
    "    operator_train_dataset, \n",
    "    batch_size=32,\n",
    "    shuffle=True, \n",
    "    num_workers=2\n",
    "    )\n",
    "print(f\"Digit - Train: {len(digit_train_dataset)}, Val: {len(digit_val_dataset)}, Test: {len(digit_test_dataset)}\")\n",
    "print(f\"Operator - Train: {len(operator_train_dataset)}, Val: {len(operator_val_dataset)}, Test: {len(operator_test_dataset)}\")\n",
    "\n",
    "# Create dataloaders\n",
    "print(\"\\nDatasets and dataloaders created successfully!\")\n",
    "print(f\"Number of digit classes: {len(digit_dataset.classes)}\")\n",
    "print(f\"Number of operator classes: {len(operator_dataset.classes)}\")\n"
   ]
  },
  {
   "cell_type": "code",
   "execution_count": 32,
   "metadata": {},
   "outputs": [
    {
     "name": "stdout",
     "output_type": "stream",
     "text": [
      "\n",
      "Diagnostic Information:\n",
      "Digit classes: ['0', '1', '2', '3', '4', '5', '6', '7', '8', '9']\n",
      "Number of digit classes: 10\n",
      "DigitNet output dimension: 10\n",
      "Operator classes: ['add', 'dec', 'div', 'eq', 'mul', 'sub', 'x', 'y', 'z']\n",
      "Number of operator classes: 9\n",
      "OperatorNet output dimension: 9\n",
      "\n",
      "Network Architecture Check:\n",
      "DigitNet:\n",
      "Input -> Conv1 (1->6) -> Pool -> Conv2 (6->16) -> Pool -> FC1 (400->120) -> FC2 (120->84) -> FC3 (84->10)\n",
      "\n",
      "OperatorNet:\n",
      "Input -> Conv1 (1->6) -> Pool -> Conv2 (6->16) -> Pool -> FC1 (400->120) -> FC2 (120->84) -> FC3 (84->9)\n",
      "\n",
      "Moving networks to GPU...\n",
      "Successfully moved networks to GPU\n",
      "\n",
      "Verifying data shapes:\n",
      "Digit batch - Images: torch.Size([32, 1, 32, 32]), Labels: torch.Size([32])\n",
      "Operator batch - Images: torch.Size([32, 1, 32, 32]), Labels: torch.Size([32])\n",
      "\n",
      "Label distributions:\n",
      "Digit labels unique values: tensor([0, 1, 2, 3, 4, 5, 6, 7, 8, 9])\n",
      "Operator labels unique values: tensor([0, 1, 2, 3, 4, 5, 6, 7, 8])\n",
      "\n",
      "Network output dimensions:\n",
      "DigitNet output: torch.Size([32, 10])\n",
      "OperatorNet output: torch.Size([32, 9])\n"
     ]
    }
   ],
   "source": [
    "# Define the classes based on the folders\n",
    "digit_classes = sorted(os.listdir('./data/digits'))\n",
    "operator_classes = sorted(os.listdir('./data/operators'))\n",
    "\n",
    "# Define network architectures first\n",
    "class DigitNet(nn.Module):\n",
    "    def __init__(self):\n",
    "        super(DigitNet, self).__init__()\n",
    "        # Input: 1x32x32\n",
    "        self.conv1 = nn.Conv2d(1, 6, 5)  # Output: 6x28x28\n",
    "        self.pool = nn.MaxPool2d(2, 2)    # Output: 6x14x14\n",
    "        self.conv2 = nn.Conv2d(6, 16, 5)  # Output: 16x10x10\n",
    "        # After second pooling: 16x5x5\n",
    "        self.fc1 = nn.Linear(16 * 5 * 5, 120)\n",
    "        self.fc2 = nn.Linear(120, 84)\n",
    "        self.fc3 = nn.Linear(84, len(digit_classes))\n",
    "\n",
    "    def forward(self, x):\n",
    "        x = self.pool(F.relu(self.conv1(x)))\n",
    "        x = self.pool(F.relu(self.conv2(x)))\n",
    "        x = x.view(-1, 16 * 5 * 5)\n",
    "        x = F.relu(self.fc1(x))\n",
    "        x = F.relu(self.fc2(x))\n",
    "        x = self.fc3(x)\n",
    "        return x\n",
    "\n",
    "class OperatorNet(nn.Module):\n",
    "    def __init__(self):\n",
    "        super(OperatorNet, self).__init__()\n",
    "        # Input: 1x32x32\n",
    "        self.conv1 = nn.Conv2d(1, 6, 5)  # Output: 6x28x28\n",
    "        self.pool = nn.MaxPool2d(2, 2)    # Output: 6x14x14\n",
    "        self.conv2 = nn.Conv2d(6, 16, 5)  # Output: 16x10x10\n",
    "        # After second pooling: 16x5x5\n",
    "        self.fc1 = nn.Linear(16 * 5 * 5, 120)\n",
    "        self.fc2 = nn.Linear(120, 84)\n",
    "        self.fc3 = nn.Linear(84, len(operator_classes))\n",
    "\n",
    "    def forward(self, x):\n",
    "        x = self.pool(F.relu(self.conv1(x)))\n",
    "        x = self.pool(F.relu(self.conv2(x)))\n",
    "        x = x.view(-1, 16 * 5 * 5)\n",
    "        x = F.relu(self.fc1(x))\n",
    "        x = F.relu(self.fc2(x))\n",
    "        x = self.fc3(x)\n",
    "        return x\n",
    "    \n",
    "# Initialize networks on CPU first\n",
    "digit_net = DigitNet()\n",
    "operator_net = OperatorNet()\n",
    "\n",
    "# Diagnostic code to check dimensions and classes\n",
    "print(\"\\nDiagnostic Information:\")\n",
    "print(f\"Digit classes: {digit_classes}\")\n",
    "print(f\"Number of digit classes: {len(digit_classes)}\")\n",
    "print(f\"DigitNet output dimension: {digit_net.fc3.out_features}\")\n",
    "\n",
    "print(f\"Operator classes: {operator_classes}\")\n",
    "print(f\"Number of operator classes: {len(operator_classes)}\")\n",
    "print(f\"OperatorNet output dimension: {operator_net.fc3.out_features}\")\n",
    "\n",
    "# Verify network structures before moving to GPU\n",
    "print(\"\\nNetwork Architecture Check:\")\n",
    "print(\"DigitNet:\")\n",
    "print(f\"Input -> Conv1 (1->6) -> Pool -> Conv2 (6->16) -> Pool -> FC1 (400->120) -> FC2 (120->84) -> FC3 (84->{len(digit_classes)})\")\n",
    "print(\"\\nOperatorNet:\")\n",
    "print(f\"Input -> Conv1 (1->6) -> Pool -> Conv2 (6->16) -> Pool -> FC1 (400->120) -> FC2 (120->84) -> FC3 (84->{len(operator_classes)})\")\n",
    "\n",
    "# Try moving to GPU with error handling\n",
    "try:\n",
    "    print(\"\\nMoving networks to GPU...\")\n",
    "    digit_net = digit_net.to(device)\n",
    "    operator_net = operator_net.to(device)\n",
    "    print(\"Successfully moved networks to GPU\")\n",
    "except RuntimeError as e:\n",
    "    print(f\"Error moving networks to GPU: {e}\")\n",
    "    print(\"Falling back to CPU\")\n",
    "    device = torch.device(\"cpu\")\n",
    "    digit_net = digit_net.to(device)\n",
    "    operator_net = operator_net.to(device)\n",
    "\n",
    "# Create optimizers after moving networks to device\n",
    "digit_optimizer = optim.SGD(digit_net.parameters(), lr=0.001, momentum=0.9)\n",
    "operator_optimizer = optim.SGD(operator_net.parameters(), lr=0.001, momentum=0.9)\n",
    "\n",
    "# Now verify data and label shapes\n",
    "print(\"\\nVerifying data shapes:\")\n",
    "sample_digit_batch = next(iter(digit_trainloader))\n",
    "sample_operator_batch = next(iter(operator_trainloader))\n",
    "\n",
    "print(f\"Digit batch - Images: {sample_digit_batch[0].shape}, Labels: {sample_digit_batch[1].shape}\")\n",
    "print(f\"Operator batch - Images: {sample_operator_batch[0].shape}, Labels: {sample_operator_batch[1].shape}\")\n",
    "\n",
    "# Check label distributions\n",
    "print(\"\\nLabel distributions:\")\n",
    "print(f\"Digit labels unique values: {torch.unique(sample_digit_batch[1])}\")\n",
    "print(f\"Operator labels unique values: {torch.unique(sample_operator_batch[1])}\")\n",
    "\n",
    "# Verify network output dimensions match number of classes\n",
    "with torch.no_grad():\n",
    "    digit_out = digit_net(sample_digit_batch[0].to(device))\n",
    "    operator_out = operator_net(sample_operator_batch[0].to(device))\n",
    "    print(\"\\nNetwork output dimensions:\")\n",
    "    print(f\"DigitNet output: {digit_out.shape}\")\n",
    "    print(f\"OperatorNet output: {operator_out.shape}\")\n"
   ]
  },
  {
   "cell_type": "code",
   "execution_count": 33,
   "metadata": {},
   "outputs": [
    {
     "name": "stdout",
     "output_type": "stream",
     "text": [
      "\n",
      "Diagnostic Information:\n",
      "Digit classes: ['0', '1', '2', '3', '4', '5', '6', '7', '8', '9']\n",
      "Number of digit classes: 10\n",
      "DigitNet output dimension: 10\n",
      "Operator classes: ['add', 'dec', 'div', 'eq', 'mul', 'sub', 'x', 'y', 'z']\n",
      "Number of operator classes: 9\n",
      "OperatorNet output dimension: 9\n",
      "\n",
      "Batch shapes:\n",
      "Digit batch - Images: torch.Size([32, 1, 32, 32]), Labels: torch.Size([32])\n",
      "Operator batch - Images: torch.Size([32, 1, 32, 32]), Labels: torch.Size([32])\n",
      "\n",
      "Label ranges:\n",
      "Digit labels: 0 to 9\n",
      "Operator labels: 0 to 7\n",
      "\n",
      "Class mappings:\n",
      "Digit classes: {'0': 0, '1': 1, '2': 2, '3': 3, '4': 4, '5': 5, '6': 6, '7': 7, '8': 8, '9': 9}\n",
      "Operator classes: {'add': 0, 'dec': 1, 'div': 2, 'eq': 3, 'mul': 4, 'sub': 5, 'x': 6, 'y': 7, 'z': 8}\n",
      "\n",
      "Epoch 1/50\n"
     ]
    },
    {
     "name": "stderr",
     "output_type": "stream",
     "text": [
      "Training Digit Net: 100%|██████████| 133/133 [00:11<00:00, 11.25it/s, loss=2.3]\n",
      "Training Operator Net: 100%|██████████| 120/120 [00:11<00:00, 10.71it/s, loss=2.19]\n"
     ]
    },
    {
     "name": "stdout",
     "output_type": "stream",
     "text": [
      "\n",
      "Digit Network Validation Accuracy: 10.94%\n",
      "Operator Network Validation Accuracy: 10.92%\n",
      "New best accuracy! Saved models.\n",
      "\n",
      "Epoch 1/50\n",
      "Time taken: 27.19 seconds\n",
      "Best Digit Accuracy: 10.94%\n",
      "Best Operator Accuracy: 10.92%\n",
      "\n",
      "Epoch 2/50\n"
     ]
    },
    {
     "name": "stderr",
     "output_type": "stream",
     "text": [
      "Training Digit Net: 100%|██████████| 133/133 [00:05<00:00, 22.40it/s, loss=2.3]\n",
      "Training Operator Net: 100%|██████████| 120/120 [00:06<00:00, 19.87it/s, loss=2.18]\n"
     ]
    },
    {
     "name": "stdout",
     "output_type": "stream",
     "text": [
      "\n",
      "Epoch 2/50\n",
      "Time taken: 11.98 seconds\n",
      "Best Digit Accuracy: 10.94%\n",
      "Best Operator Accuracy: 10.92%\n",
      "\n",
      "Epoch 3/50\n"
     ]
    },
    {
     "name": "stderr",
     "output_type": "stream",
     "text": [
      "Training Digit Net: 100%|██████████| 133/133 [00:05<00:00, 22.29it/s, loss=2.3]\n",
      "Training Operator Net: 100%|██████████| 120/120 [00:05<00:00, 20.52it/s, loss=2.17]\n"
     ]
    },
    {
     "name": "stdout",
     "output_type": "stream",
     "text": [
      "\n",
      "Epoch 3/50\n",
      "Time taken: 11.82 seconds\n",
      "Best Digit Accuracy: 10.94%\n",
      "Best Operator Accuracy: 10.92%\n",
      "\n",
      "Epoch 4/50\n"
     ]
    },
    {
     "name": "stderr",
     "output_type": "stream",
     "text": [
      "Training Digit Net: 100%|██████████| 133/133 [00:05<00:00, 22.45it/s, loss=2.3]\n",
      "Training Operator Net: 100%|██████████| 120/120 [00:05<00:00, 20.62it/s, loss=2.15]\n"
     ]
    },
    {
     "name": "stdout",
     "output_type": "stream",
     "text": [
      "\n",
      "Epoch 4/50\n",
      "Time taken: 11.75 seconds\n",
      "Best Digit Accuracy: 10.94%\n",
      "Best Operator Accuracy: 10.92%\n",
      "\n",
      "Epoch 5/50\n"
     ]
    },
    {
     "name": "stderr",
     "output_type": "stream",
     "text": [
      "Training Digit Net: 100%|██████████| 133/133 [00:05<00:00, 22.59it/s, loss=2.29]\n",
      "Training Operator Net: 100%|██████████| 120/120 [00:05<00:00, 20.40it/s, loss=2.14]\n"
     ]
    },
    {
     "name": "stdout",
     "output_type": "stream",
     "text": [
      "\n",
      "Epoch 5/50\n",
      "Time taken: 11.77 seconds\n",
      "Best Digit Accuracy: 10.94%\n",
      "Best Operator Accuracy: 10.92%\n",
      "\n",
      "Epoch 6/50\n"
     ]
    },
    {
     "name": "stderr",
     "output_type": "stream",
     "text": [
      "Training Digit Net: 100%|██████████| 133/133 [00:06<00:00, 22.16it/s, loss=2.29]\n",
      "Training Operator Net: 100%|██████████| 120/120 [00:05<00:00, 20.85it/s, loss=2.12]\n"
     ]
    },
    {
     "name": "stdout",
     "output_type": "stream",
     "text": [
      "\n",
      "Digit Network Validation Accuracy: 9.06%\n",
      "Operator Network Validation Accuracy: 25.00%\n",
      "New best accuracy! Saved models.\n",
      "\n",
      "Epoch 6/50\n",
      "Time taken: 12.52 seconds\n",
      "Best Digit Accuracy: 10.94%\n",
      "Best Operator Accuracy: 25.00%\n",
      "\n",
      "Epoch 7/50\n"
     ]
    },
    {
     "name": "stderr",
     "output_type": "stream",
     "text": [
      "Training Digit Net: 100%|██████████| 133/133 [00:05<00:00, 22.45it/s, loss=2.28]\n",
      "Training Operator Net: 100%|██████████| 120/120 [00:05<00:00, 20.84it/s, loss=2.09]\n"
     ]
    },
    {
     "name": "stdout",
     "output_type": "stream",
     "text": [
      "\n",
      "Epoch 7/50\n",
      "Time taken: 11.69 seconds\n",
      "Best Digit Accuracy: 10.94%\n",
      "Best Operator Accuracy: 25.00%\n",
      "\n",
      "Epoch 8/50\n"
     ]
    },
    {
     "name": "stderr",
     "output_type": "stream",
     "text": [
      "Training Digit Net: 100%|██████████| 133/133 [00:05<00:00, 22.52it/s, loss=2.27]\n",
      "Training Operator Net: 100%|██████████| 120/120 [00:05<00:00, 20.64it/s, loss=2]\n"
     ]
    },
    {
     "name": "stdout",
     "output_type": "stream",
     "text": [
      "\n",
      "Epoch 8/50\n",
      "Time taken: 11.72 seconds\n",
      "Best Digit Accuracy: 10.94%\n",
      "Best Operator Accuracy: 25.00%\n",
      "\n",
      "Epoch 9/50\n"
     ]
    },
    {
     "name": "stderr",
     "output_type": "stream",
     "text": [
      "Training Digit Net: 100%|██████████| 133/133 [00:05<00:00, 22.55it/s, loss=2.26]\n",
      "Training Operator Net: 100%|██████████| 120/120 [00:05<00:00, 20.61it/s, loss=1.77]\n"
     ]
    },
    {
     "name": "stdout",
     "output_type": "stream",
     "text": [
      "\n",
      "Epoch 9/50\n",
      "Time taken: 11.72 seconds\n",
      "Best Digit Accuracy: 10.94%\n",
      "Best Operator Accuracy: 25.00%\n",
      "\n",
      "Epoch 10/50\n"
     ]
    },
    {
     "name": "stderr",
     "output_type": "stream",
     "text": [
      "Training Digit Net: 100%|██████████| 133/133 [00:05<00:00, 22.32it/s, loss=2.25]\n",
      "Training Operator Net: 100%|██████████| 120/120 [00:05<00:00, 20.79it/s, loss=1.37]\n"
     ]
    },
    {
     "name": "stdout",
     "output_type": "stream",
     "text": [
      "\n",
      "Epoch 10/50\n",
      "Time taken: 11.73 seconds\n",
      "Best Digit Accuracy: 10.94%\n",
      "Best Operator Accuracy: 25.00%\n",
      "\n",
      "Epoch 11/50\n"
     ]
    },
    {
     "name": "stderr",
     "output_type": "stream",
     "text": [
      "Training Digit Net: 100%|██████████| 133/133 [00:05<00:00, 22.29it/s, loss=2.22]\n",
      "Training Operator Net: 100%|██████████| 120/120 [00:05<00:00, 20.68it/s, loss=1.13]\n"
     ]
    },
    {
     "name": "stdout",
     "output_type": "stream",
     "text": [
      "\n",
      "Digit Network Validation Accuracy: 20.57%\n",
      "Operator Network Validation Accuracy: 67.44%\n",
      "New best accuracy! Saved models.\n",
      "\n",
      "Epoch 11/50\n",
      "Time taken: 12.51 seconds\n",
      "Best Digit Accuracy: 20.57%\n",
      "Best Operator Accuracy: 67.44%\n",
      "\n",
      "Epoch 12/50\n"
     ]
    },
    {
     "name": "stderr",
     "output_type": "stream",
     "text": [
      "Training Digit Net: 100%|██████████| 133/133 [00:06<00:00, 22.05it/s, loss=2.18]\n",
      "Training Operator Net: 100%|██████████| 120/120 [00:05<00:00, 20.55it/s, loss=0.982]\n"
     ]
    },
    {
     "name": "stdout",
     "output_type": "stream",
     "text": [
      "\n",
      "Epoch 12/50\n",
      "Time taken: 11.87 seconds\n",
      "Best Digit Accuracy: 20.57%\n",
      "Best Operator Accuracy: 67.44%\n",
      "\n",
      "Epoch 13/50\n"
     ]
    },
    {
     "name": "stderr",
     "output_type": "stream",
     "text": [
      "Training Digit Net: 100%|██████████| 133/133 [00:05<00:00, 22.36it/s, loss=2.1]\n",
      "Training Operator Net: 100%|██████████| 120/120 [00:05<00:00, 20.80it/s, loss=0.846]\n"
     ]
    },
    {
     "name": "stdout",
     "output_type": "stream",
     "text": [
      "\n",
      "Epoch 13/50\n",
      "Time taken: 11.72 seconds\n",
      "Best Digit Accuracy: 20.57%\n",
      "Best Operator Accuracy: 67.44%\n",
      "\n",
      "Epoch 14/50\n"
     ]
    },
    {
     "name": "stderr",
     "output_type": "stream",
     "text": [
      "Training Digit Net: 100%|██████████| 133/133 [00:05<00:00, 22.63it/s, loss=1.97]\n",
      "Training Operator Net: 100%|██████████| 120/120 [00:05<00:00, 20.23it/s, loss=0.732]\n"
     ]
    },
    {
     "name": "stdout",
     "output_type": "stream",
     "text": [
      "\n",
      "Epoch 14/50\n",
      "Time taken: 11.81 seconds\n",
      "Best Digit Accuracy: 20.57%\n",
      "Best Operator Accuracy: 67.44%\n",
      "\n",
      "Epoch 15/50\n"
     ]
    },
    {
     "name": "stderr",
     "output_type": "stream",
     "text": [
      "Training Digit Net: 100%|██████████| 133/133 [00:05<00:00, 22.32it/s, loss=1.82]\n",
      "Training Operator Net: 100%|██████████| 120/120 [00:05<00:00, 20.72it/s, loss=0.63]\n"
     ]
    },
    {
     "name": "stdout",
     "output_type": "stream",
     "text": [
      "\n",
      "Epoch 15/50\n",
      "Time taken: 11.75 seconds\n",
      "Best Digit Accuracy: 20.57%\n",
      "Best Operator Accuracy: 67.44%\n",
      "\n",
      "Epoch 16/50\n"
     ]
    },
    {
     "name": "stderr",
     "output_type": "stream",
     "text": [
      "Training Digit Net: 100%|██████████| 133/133 [00:05<00:00, 22.49it/s, loss=1.65]\n",
      "Training Operator Net: 100%|██████████| 120/120 [00:05<00:00, 20.93it/s, loss=0.536]\n"
     ]
    },
    {
     "name": "stdout",
     "output_type": "stream",
     "text": [
      "\n",
      "Digit Network Validation Accuracy: 46.60%\n",
      "Operator Network Validation Accuracy: 82.14%\n",
      "New best accuracy! Saved models.\n",
      "\n",
      "Epoch 16/50\n",
      "Time taken: 12.36 seconds\n",
      "Best Digit Accuracy: 46.60%\n",
      "Best Operator Accuracy: 82.14%\n",
      "\n",
      "Epoch 17/50\n"
     ]
    },
    {
     "name": "stderr",
     "output_type": "stream",
     "text": [
      "Training Digit Net: 100%|██████████| 133/133 [00:06<00:00, 22.03it/s, loss=1.51]\n",
      "Training Operator Net: 100%|██████████| 120/120 [00:05<00:00, 20.43it/s, loss=0.477]\n"
     ]
    },
    {
     "name": "stdout",
     "output_type": "stream",
     "text": [
      "\n",
      "Epoch 17/50\n",
      "Time taken: 11.91 seconds\n",
      "Best Digit Accuracy: 46.60%\n",
      "Best Operator Accuracy: 82.14%\n",
      "\n",
      "Epoch 18/50\n"
     ]
    },
    {
     "name": "stderr",
     "output_type": "stream",
     "text": [
      "Training Digit Net: 100%|██████████| 133/133 [00:06<00:00, 22.05it/s, loss=1.33]\n",
      "Training Operator Net: 100%|██████████| 120/120 [00:05<00:00, 20.72it/s, loss=0.429]\n"
     ]
    },
    {
     "name": "stdout",
     "output_type": "stream",
     "text": [
      "\n",
      "Epoch 18/50\n",
      "Time taken: 11.83 seconds\n",
      "Best Digit Accuracy: 46.60%\n",
      "Best Operator Accuracy: 82.14%\n",
      "\n",
      "Epoch 19/50\n"
     ]
    },
    {
     "name": "stderr",
     "output_type": "stream",
     "text": [
      "Training Digit Net: 100%|██████████| 133/133 [00:05<00:00, 22.43it/s, loss=1.17]\n",
      "Training Operator Net: 100%|██████████| 120/120 [00:05<00:00, 20.67it/s, loss=0.403]\n"
     ]
    },
    {
     "name": "stdout",
     "output_type": "stream",
     "text": [
      "\n",
      "Epoch 19/50\n",
      "Time taken: 11.74 seconds\n",
      "Best Digit Accuracy: 46.60%\n",
      "Best Operator Accuracy: 82.14%\n",
      "\n",
      "Epoch 20/50\n"
     ]
    },
    {
     "name": "stderr",
     "output_type": "stream",
     "text": [
      "Training Digit Net: 100%|██████████| 133/133 [00:06<00:00, 21.74it/s, loss=1.07]\n",
      "Training Operator Net: 100%|██████████| 120/120 [00:06<00:00, 19.20it/s, loss=0.342]\n"
     ]
    },
    {
     "name": "stdout",
     "output_type": "stream",
     "text": [
      "\n",
      "Epoch 20/50\n",
      "Time taken: 12.37 seconds\n",
      "Best Digit Accuracy: 46.60%\n",
      "Best Operator Accuracy: 82.14%\n",
      "\n",
      "Epoch 21/50\n"
     ]
    },
    {
     "name": "stderr",
     "output_type": "stream",
     "text": [
      "Training Digit Net: 100%|██████████| 133/133 [00:05<00:00, 22.38it/s, loss=0.943]\n",
      "Training Operator Net: 100%|██████████| 120/120 [00:05<00:00, 20.75it/s, loss=0.309]\n"
     ]
    },
    {
     "name": "stdout",
     "output_type": "stream",
     "text": [
      "\n",
      "Digit Network Validation Accuracy: 68.11%\n",
      "Operator Network Validation Accuracy: 90.55%\n",
      "New best accuracy! Saved models.\n",
      "\n",
      "Epoch 21/50\n",
      "Time taken: 12.46 seconds\n",
      "Best Digit Accuracy: 68.11%\n",
      "Best Operator Accuracy: 90.55%\n",
      "\n",
      "Epoch 22/50\n"
     ]
    },
    {
     "name": "stderr",
     "output_type": "stream",
     "text": [
      "Training Digit Net: 100%|██████████| 133/133 [00:05<00:00, 22.64it/s, loss=0.86]\n",
      "Training Operator Net: 100%|██████████| 120/120 [00:05<00:00, 20.51it/s, loss=0.282]\n"
     ]
    },
    {
     "name": "stdout",
     "output_type": "stream",
     "text": [
      "\n",
      "Epoch 22/50\n",
      "Time taken: 11.73 seconds\n",
      "Best Digit Accuracy: 68.11%\n",
      "Best Operator Accuracy: 90.55%\n",
      "\n",
      "Epoch 23/50\n"
     ]
    },
    {
     "name": "stderr",
     "output_type": "stream",
     "text": [
      "Training Digit Net: 100%|██████████| 133/133 [00:05<00:00, 22.51it/s, loss=0.751]\n",
      "Training Operator Net: 100%|██████████| 120/120 [00:05<00:00, 20.72it/s, loss=0.256]\n"
     ]
    },
    {
     "name": "stdout",
     "output_type": "stream",
     "text": [
      "\n",
      "Epoch 23/50\n",
      "Time taken: 11.70 seconds\n",
      "Best Digit Accuracy: 68.11%\n",
      "Best Operator Accuracy: 90.55%\n",
      "\n",
      "Epoch 24/50\n"
     ]
    },
    {
     "name": "stderr",
     "output_type": "stream",
     "text": [
      "Training Digit Net: 100%|██████████| 133/133 [00:06<00:00, 22.14it/s, loss=0.674]\n",
      "Training Operator Net: 100%|██████████| 120/120 [00:05<00:00, 20.67it/s, loss=0.254]\n"
     ]
    },
    {
     "name": "stdout",
     "output_type": "stream",
     "text": [
      "\n",
      "Epoch 24/50\n",
      "Time taken: 11.81 seconds\n",
      "Best Digit Accuracy: 68.11%\n",
      "Best Operator Accuracy: 90.55%\n",
      "\n",
      "Epoch 25/50\n"
     ]
    },
    {
     "name": "stderr",
     "output_type": "stream",
     "text": [
      "Training Digit Net: 100%|██████████| 133/133 [00:05<00:00, 22.59it/s, loss=0.621]\n",
      "Training Operator Net: 100%|██████████| 120/120 [00:05<00:00, 21.14it/s, loss=0.222]\n"
     ]
    },
    {
     "name": "stdout",
     "output_type": "stream",
     "text": [
      "\n",
      "Epoch 25/50\n",
      "Time taken: 11.57 seconds\n",
      "Best Digit Accuracy: 68.11%\n",
      "Best Operator Accuracy: 90.55%\n",
      "\n",
      "Epoch 26/50\n"
     ]
    },
    {
     "name": "stderr",
     "output_type": "stream",
     "text": [
      "Training Digit Net: 100%|██████████| 133/133 [00:05<00:00, 22.47it/s, loss=0.578]\n",
      "Training Operator Net: 100%|██████████| 120/120 [00:05<00:00, 20.96it/s, loss=0.199]\n"
     ]
    },
    {
     "name": "stdout",
     "output_type": "stream",
     "text": [
      "\n",
      "Digit Network Validation Accuracy: 80.00%\n",
      "Operator Network Validation Accuracy: 91.60%\n",
      "New best accuracy! Saved models.\n",
      "\n",
      "Epoch 26/50\n",
      "Time taken: 12.38 seconds\n",
      "Best Digit Accuracy: 80.00%\n",
      "Best Operator Accuracy: 91.60%\n",
      "\n",
      "Epoch 27/50\n"
     ]
    },
    {
     "name": "stderr",
     "output_type": "stream",
     "text": [
      "Training Digit Net: 100%|██████████| 133/133 [00:06<00:00, 20.97it/s, loss=0.505]\n",
      "Training Operator Net: 100%|██████████| 120/120 [00:06<00:00, 19.74it/s, loss=0.179]\n"
     ]
    },
    {
     "name": "stdout",
     "output_type": "stream",
     "text": [
      "\n",
      "Epoch 27/50\n",
      "Time taken: 12.42 seconds\n",
      "Best Digit Accuracy: 80.00%\n",
      "Best Operator Accuracy: 91.60%\n",
      "\n",
      "Epoch 28/50\n"
     ]
    },
    {
     "name": "stderr",
     "output_type": "stream",
     "text": [
      "Training Digit Net: 100%|██████████| 133/133 [00:06<00:00, 21.92it/s, loss=0.45]\n",
      "Training Operator Net: 100%|██████████| 120/120 [00:05<00:00, 20.60it/s, loss=0.167]\n"
     ]
    },
    {
     "name": "stdout",
     "output_type": "stream",
     "text": [
      "\n",
      "Epoch 28/50\n",
      "Time taken: 11.90 seconds\n",
      "Best Digit Accuracy: 80.00%\n",
      "Best Operator Accuracy: 91.60%\n",
      "\n",
      "Epoch 29/50\n"
     ]
    },
    {
     "name": "stderr",
     "output_type": "stream",
     "text": [
      "Training Digit Net: 100%|██████████| 133/133 [00:05<00:00, 22.45it/s, loss=0.424]\n",
      "Training Operator Net: 100%|██████████| 120/120 [00:05<00:00, 20.27it/s, loss=0.165]\n"
     ]
    },
    {
     "name": "stdout",
     "output_type": "stream",
     "text": [
      "\n",
      "Epoch 29/50\n",
      "Time taken: 11.85 seconds\n",
      "Best Digit Accuracy: 80.00%\n",
      "Best Operator Accuracy: 91.60%\n",
      "\n",
      "Epoch 30/50\n"
     ]
    },
    {
     "name": "stderr",
     "output_type": "stream",
     "text": [
      "Training Digit Net: 100%|██████████| 133/133 [00:06<00:00, 20.39it/s, loss=0.385]\n",
      "Training Operator Net: 100%|██████████| 120/120 [00:05<00:00, 20.50it/s, loss=0.14]\n"
     ]
    },
    {
     "name": "stdout",
     "output_type": "stream",
     "text": [
      "\n",
      "Epoch 30/50\n",
      "Time taken: 12.38 seconds\n",
      "Best Digit Accuracy: 80.00%\n",
      "Best Operator Accuracy: 91.60%\n",
      "\n",
      "Epoch 31/50\n"
     ]
    },
    {
     "name": "stderr",
     "output_type": "stream",
     "text": [
      "Training Digit Net: 100%|██████████| 133/133 [00:05<00:00, 22.54it/s, loss=0.356]\n",
      "Training Operator Net: 100%|██████████| 120/120 [00:05<00:00, 20.38it/s, loss=0.125]\n"
     ]
    },
    {
     "name": "stdout",
     "output_type": "stream",
     "text": [
      "\n",
      "Digit Network Validation Accuracy: 85.85%\n",
      "Operator Network Validation Accuracy: 93.28%\n",
      "New best accuracy! Saved models.\n",
      "\n",
      "Epoch 31/50\n",
      "Time taken: 12.55 seconds\n",
      "Best Digit Accuracy: 85.85%\n",
      "Best Operator Accuracy: 93.28%\n",
      "\n",
      "Epoch 32/50\n"
     ]
    },
    {
     "name": "stderr",
     "output_type": "stream",
     "text": [
      "Training Digit Net: 100%|██████████| 133/133 [00:06<00:00, 22.09it/s, loss=0.334]\n",
      "Training Operator Net: 100%|██████████| 120/120 [00:05<00:00, 20.57it/s, loss=0.122]\n"
     ]
    },
    {
     "name": "stdout",
     "output_type": "stream",
     "text": [
      "\n",
      "Epoch 32/50\n",
      "Time taken: 11.86 seconds\n",
      "Best Digit Accuracy: 85.85%\n",
      "Best Operator Accuracy: 93.28%\n",
      "\n",
      "Epoch 33/50\n"
     ]
    },
    {
     "name": "stderr",
     "output_type": "stream",
     "text": [
      "Training Digit Net: 100%|██████████| 133/133 [00:05<00:00, 22.22it/s, loss=0.29]\n",
      "Training Operator Net: 100%|██████████| 120/120 [00:06<00:00, 19.32it/s, loss=0.119]\n"
     ]
    },
    {
     "name": "stdout",
     "output_type": "stream",
     "text": [
      "\n",
      "Epoch 33/50\n",
      "Time taken: 12.20 seconds\n",
      "Best Digit Accuracy: 85.85%\n",
      "Best Operator Accuracy: 93.28%\n",
      "\n",
      "Epoch 34/50\n"
     ]
    },
    {
     "name": "stderr",
     "output_type": "stream",
     "text": [
      "Training Digit Net: 100%|██████████| 133/133 [00:06<00:00, 20.67it/s, loss=0.282]\n",
      "Training Operator Net: 100%|██████████| 120/120 [00:05<00:00, 20.22it/s, loss=0.103]\n"
     ]
    },
    {
     "name": "stdout",
     "output_type": "stream",
     "text": [
      "\n",
      "Epoch 34/50\n",
      "Time taken: 12.37 seconds\n",
      "Best Digit Accuracy: 85.85%\n",
      "Best Operator Accuracy: 93.28%\n",
      "\n",
      "Epoch 35/50\n"
     ]
    },
    {
     "name": "stderr",
     "output_type": "stream",
     "text": [
      "Training Digit Net: 100%|██████████| 133/133 [00:06<00:00, 21.73it/s, loss=0.259]\n",
      "Training Operator Net: 100%|██████████| 120/120 [00:06<00:00, 19.90it/s, loss=0.115]\n"
     ]
    },
    {
     "name": "stdout",
     "output_type": "stream",
     "text": [
      "\n",
      "Epoch 35/50\n",
      "Time taken: 12.15 seconds\n",
      "Best Digit Accuracy: 85.85%\n",
      "Best Operator Accuracy: 93.28%\n",
      "\n",
      "Epoch 36/50\n"
     ]
    },
    {
     "name": "stderr",
     "output_type": "stream",
     "text": [
      "Training Digit Net: 100%|██████████| 133/133 [00:06<00:00, 22.01it/s, loss=0.231]\n",
      "Training Operator Net: 100%|██████████| 120/120 [00:06<00:00, 19.91it/s, loss=0.096]\n"
     ]
    },
    {
     "name": "stdout",
     "output_type": "stream",
     "text": [
      "\n",
      "Digit Network Validation Accuracy: 87.74%\n",
      "Operator Network Validation Accuracy: 94.54%\n",
      "New best accuracy! Saved models.\n",
      "\n",
      "Epoch 36/50\n",
      "Time taken: 12.83 seconds\n",
      "Best Digit Accuracy: 87.74%\n",
      "Best Operator Accuracy: 94.54%\n",
      "\n",
      "Epoch 37/50\n"
     ]
    },
    {
     "name": "stderr",
     "output_type": "stream",
     "text": [
      "Training Digit Net: 100%|██████████| 133/133 [00:06<00:00, 20.85it/s, loss=0.235]\n",
      "Training Operator Net: 100%|██████████| 120/120 [00:06<00:00, 18.71it/s, loss=0.091]\n"
     ]
    },
    {
     "name": "stdout",
     "output_type": "stream",
     "text": [
      "\n",
      "Epoch 37/50\n",
      "Time taken: 12.79 seconds\n",
      "Best Digit Accuracy: 87.74%\n",
      "Best Operator Accuracy: 94.54%\n",
      "\n",
      "Epoch 38/50\n"
     ]
    },
    {
     "name": "stderr",
     "output_type": "stream",
     "text": [
      "Training Digit Net: 100%|██████████| 133/133 [00:06<00:00, 21.66it/s, loss=0.227]\n",
      "Training Operator Net: 100%|██████████| 120/120 [00:05<00:00, 20.01it/s, loss=0.0785]\n"
     ]
    },
    {
     "name": "stdout",
     "output_type": "stream",
     "text": [
      "\n",
      "Epoch 38/50\n",
      "Time taken: 12.14 seconds\n",
      "Best Digit Accuracy: 87.74%\n",
      "Best Operator Accuracy: 94.54%\n",
      "\n",
      "Epoch 39/50\n"
     ]
    },
    {
     "name": "stderr",
     "output_type": "stream",
     "text": [
      "Training Digit Net: 100%|██████████| 133/133 [00:06<00:00, 21.94it/s, loss=0.193]\n",
      "Training Operator Net: 100%|██████████| 120/120 [00:05<00:00, 20.10it/s, loss=0.0805]\n"
     ]
    },
    {
     "name": "stdout",
     "output_type": "stream",
     "text": [
      "\n",
      "Epoch 39/50\n",
      "Time taken: 12.03 seconds\n",
      "Best Digit Accuracy: 87.74%\n",
      "Best Operator Accuracy: 94.54%\n",
      "\n",
      "Epoch 40/50\n"
     ]
    },
    {
     "name": "stderr",
     "output_type": "stream",
     "text": [
      "Training Digit Net: 100%|██████████| 133/133 [00:06<00:00, 21.93it/s, loss=0.168]\n",
      "Training Operator Net: 100%|██████████| 120/120 [00:05<00:00, 20.56it/s, loss=0.0785]\n"
     ]
    },
    {
     "name": "stdout",
     "output_type": "stream",
     "text": [
      "\n",
      "Epoch 40/50\n",
      "Time taken: 11.91 seconds\n",
      "Best Digit Accuracy: 87.74%\n",
      "Best Operator Accuracy: 94.54%\n",
      "\n",
      "Epoch 41/50\n"
     ]
    },
    {
     "name": "stderr",
     "output_type": "stream",
     "text": [
      "Training Digit Net: 100%|██████████| 133/133 [00:05<00:00, 22.37it/s, loss=0.164]\n",
      "Training Operator Net: 100%|██████████| 120/120 [00:05<00:00, 20.48it/s, loss=0.0843]\n"
     ]
    },
    {
     "name": "stdout",
     "output_type": "stream",
     "text": [
      "\n",
      "Digit Network Validation Accuracy: 87.74%\n",
      "Operator Network Validation Accuracy: 94.75%\n",
      "New best accuracy! Saved models.\n",
      "\n",
      "Epoch 41/50\n",
      "Time taken: 12.51 seconds\n",
      "Best Digit Accuracy: 87.74%\n",
      "Best Operator Accuracy: 94.75%\n",
      "\n",
      "Epoch 42/50\n"
     ]
    },
    {
     "name": "stderr",
     "output_type": "stream",
     "text": [
      "Training Digit Net: 100%|██████████| 133/133 [00:05<00:00, 22.50it/s, loss=0.154]\n",
      "Training Operator Net: 100%|██████████| 120/120 [00:05<00:00, 20.78it/s, loss=0.0674]\n"
     ]
    },
    {
     "name": "stdout",
     "output_type": "stream",
     "text": [
      "\n",
      "Epoch 42/50\n",
      "Time taken: 11.69 seconds\n",
      "Best Digit Accuracy: 87.74%\n",
      "Best Operator Accuracy: 94.75%\n",
      "\n",
      "Epoch 43/50\n"
     ]
    },
    {
     "name": "stderr",
     "output_type": "stream",
     "text": [
      "Training Digit Net: 100%|██████████| 133/133 [00:05<00:00, 22.19it/s, loss=0.147]\n",
      "Training Operator Net: 100%|██████████| 120/120 [00:05<00:00, 20.51it/s, loss=0.057]\n"
     ]
    },
    {
     "name": "stdout",
     "output_type": "stream",
     "text": [
      "\n",
      "Epoch 43/50\n",
      "Time taken: 11.85 seconds\n",
      "Best Digit Accuracy: 87.74%\n",
      "Best Operator Accuracy: 94.75%\n",
      "\n",
      "Epoch 44/50\n"
     ]
    },
    {
     "name": "stderr",
     "output_type": "stream",
     "text": [
      "Training Digit Net: 100%|██████████| 133/133 [00:05<00:00, 22.23it/s, loss=0.13]\n",
      "Training Operator Net: 100%|██████████| 120/120 [00:06<00:00, 19.61it/s, loss=0.0684]\n"
     ]
    },
    {
     "name": "stdout",
     "output_type": "stream",
     "text": [
      "\n",
      "Epoch 44/50\n",
      "Time taken: 12.10 seconds\n",
      "Best Digit Accuracy: 87.74%\n",
      "Best Operator Accuracy: 94.75%\n",
      "\n",
      "Epoch 45/50\n"
     ]
    },
    {
     "name": "stderr",
     "output_type": "stream",
     "text": [
      "Training Digit Net: 100%|██████████| 133/133 [00:06<00:00, 21.25it/s, loss=0.118]\n",
      "Training Operator Net: 100%|██████████| 120/120 [00:06<00:00, 19.57it/s, loss=0.0641]\n"
     ]
    },
    {
     "name": "stdout",
     "output_type": "stream",
     "text": [
      "\n",
      "Epoch 45/50\n",
      "Time taken: 12.39 seconds\n",
      "Best Digit Accuracy: 87.74%\n",
      "Best Operator Accuracy: 94.75%\n",
      "\n",
      "Epoch 46/50\n"
     ]
    },
    {
     "name": "stderr",
     "output_type": "stream",
     "text": [
      "Training Digit Net: 100%|██████████| 133/133 [00:06<00:00, 21.13it/s, loss=0.12]\n",
      "Training Operator Net: 100%|██████████| 120/120 [00:06<00:00, 19.40it/s, loss=0.0514]\n"
     ]
    },
    {
     "name": "stdout",
     "output_type": "stream",
     "text": [
      "\n",
      "Digit Network Validation Accuracy: 88.49%\n",
      "Operator Network Validation Accuracy: 96.01%\n",
      "New best accuracy! Saved models.\n",
      "\n",
      "Epoch 46/50\n",
      "Time taken: 13.30 seconds\n",
      "Best Digit Accuracy: 88.49%\n",
      "Best Operator Accuracy: 96.01%\n",
      "\n",
      "Epoch 47/50\n"
     ]
    },
    {
     "name": "stderr",
     "output_type": "stream",
     "text": [
      "Training Digit Net: 100%|██████████| 133/133 [00:06<00:00, 22.09it/s, loss=0.0955]\n",
      "Training Operator Net: 100%|██████████| 120/120 [00:05<00:00, 20.63it/s, loss=0.0481]\n"
     ]
    },
    {
     "name": "stdout",
     "output_type": "stream",
     "text": [
      "\n",
      "Epoch 47/50\n",
      "Time taken: 11.84 seconds\n",
      "Best Digit Accuracy: 88.49%\n",
      "Best Operator Accuracy: 96.01%\n",
      "\n",
      "Epoch 48/50\n"
     ]
    },
    {
     "name": "stderr",
     "output_type": "stream",
     "text": [
      "Training Digit Net: 100%|██████████| 133/133 [00:06<00:00, 21.42it/s, loss=0.0881]\n",
      "Training Operator Net: 100%|██████████| 120/120 [00:05<00:00, 20.22it/s, loss=0.0512]\n"
     ]
    },
    {
     "name": "stdout",
     "output_type": "stream",
     "text": [
      "\n",
      "Epoch 48/50\n",
      "Time taken: 12.15 seconds\n",
      "Best Digit Accuracy: 88.49%\n",
      "Best Operator Accuracy: 96.01%\n",
      "\n",
      "Epoch 49/50\n"
     ]
    },
    {
     "name": "stderr",
     "output_type": "stream",
     "text": [
      "Training Digit Net: 100%|██████████| 133/133 [00:05<00:00, 22.46it/s, loss=0.101]\n",
      "Training Operator Net: 100%|██████████| 120/120 [00:05<00:00, 20.30it/s, loss=0.0423]\n"
     ]
    },
    {
     "name": "stdout",
     "output_type": "stream",
     "text": [
      "\n",
      "Epoch 49/50\n",
      "Time taken: 11.83 seconds\n",
      "Best Digit Accuracy: 88.49%\n",
      "Best Operator Accuracy: 96.01%\n",
      "\n",
      "Epoch 50/50\n"
     ]
    },
    {
     "name": "stderr",
     "output_type": "stream",
     "text": [
      "Training Digit Net: 100%|██████████| 133/133 [00:05<00:00, 22.27it/s, loss=0.0804]\n",
      "Training Operator Net: 100%|██████████| 120/120 [00:05<00:00, 20.05it/s, loss=0.0434]"
     ]
    },
    {
     "name": "stdout",
     "output_type": "stream",
     "text": [
      "\n",
      "Epoch 50/50\n",
      "Time taken: 11.96 seconds\n",
      "Best Digit Accuracy: 88.49%\n",
      "Best Operator Accuracy: 96.01%\n",
      "Finished Training\n",
      "\n",
      "Saving final model weights...\n",
      "Final weights saved successfully:\n",
      "- Digit network: ./weights/digit_net_final.pth\n",
      "- Operator network: ./weights/operator_net_final.pth\n",
      "\n",
      "Best weights were saved during training:\n",
      "- Best digit network: ./weights/digit_net_best.pth\n",
      "- Best operator network: ./weights/operator_net_best.pth\n"
     ]
    },
    {
     "name": "stderr",
     "output_type": "stream",
     "text": [
      "\n"
     ]
    }
   ],
   "source": [
    "# Training parameters\n",
    "num_epochs = 50\n",
    "eval_interval = 5\n",
    "early_stopping_patience = 15\n",
    "best_digit_accuracy = 0\n",
    "best_operator_accuracy = 0\n",
    "epochs_without_improvement = 0\n",
    "\n",
    "# Get current date for logging\n",
    "training_date = datetime.now().strftime(\"%Y-%m-%d\")\n",
    "start_time = time.time()\n",
    "\n",
    "# Add learning rate scheduler\n",
    "digit_scheduler = ReduceLROnPlateau(digit_optimizer, mode='max', factor=0.1, patience=5, verbose=True)\n",
    "operator_scheduler = ReduceLROnPlateau(operator_optimizer, mode='max', factor=0.1, patience=5, verbose=True)\n",
    "\n",
    "# Diagnostic code to check dimensions and classes\n",
    "print(\"\\nDiagnostic Information:\")\n",
    "\n",
    "# Check digit dataset\n",
    "digit_classes = sorted(os.listdir('./data/digits'))\n",
    "print(f\"Digit classes: {digit_classes}\")\n",
    "print(f\"Number of digit classes: {len(digit_classes)}\")\n",
    "print(f\"DigitNet output dimension: {digit_net.fc3.out_features}\")\n",
    "\n",
    "# Check operator dataset\n",
    "operator_classes = sorted(os.listdir('./data/operators'))\n",
    "print(f\"Operator classes: {operator_classes}\")\n",
    "print(f\"Number of operator classes: {len(operator_classes)}\")\n",
    "print(f\"OperatorNet output dimension: {operator_net.fc3.out_features}\")\n",
    "\n",
    "# Check a batch of data\n",
    "digit_batch = next(iter(digit_trainloader))\n",
    "operator_batch = next(iter(operator_trainloader))\n",
    "\n",
    "print(\"\\nBatch shapes:\")\n",
    "print(f\"Digit batch - Images: {digit_batch[0].shape}, Labels: {digit_batch[1].shape}\")\n",
    "print(f\"Operator batch - Images: {operator_batch[0].shape}, Labels: {operator_batch[1].shape}\")\n",
    "\n",
    "print(\"\\nLabel ranges:\")\n",
    "print(f\"Digit labels: {digit_batch[1].min().item()} to {digit_batch[1].max().item()}\")\n",
    "print(f\"Operator labels: {operator_batch[1].min().item()} to {operator_batch[1].max().item()}\")\n",
    "\n",
    "\n",
    "# Add criterion definitions before training\n",
    "digit_criterion = nn.CrossEntropyLoss()\n",
    "operator_criterion = nn.CrossEntropyLoss()\n",
    "\n",
    "# Add dataset class mapping\n",
    "digit_dataset.class_to_idx  # Check the mapping of classes to indices\n",
    "operator_dataset.class_to_idx  # Check the mapping of classes to indices\n",
    "\n",
    "# Before training loop, add diagnostic prints\n",
    "print(\"\\nClass mappings:\")\n",
    "print(f\"Digit classes: {digit_dataset.class_to_idx}\")\n",
    "print(f\"Operator classes: {operator_dataset.class_to_idx}\")\n",
    "\n",
    "# Create weights directory if it doesn't exist\n",
    "os.makedirs('./weights', exist_ok=True)\n",
    "\n",
    "# Update paths for saving weights during training\n",
    "best_digit_path = './weights/digit_net_best.pth'\n",
    "best_operator_path = './weights/operator_net_best.pth'\n",
    "\n",
    "# Training loop\n",
    "for epoch in range(num_epochs):\n",
    "    print(f\"\\nEpoch {epoch+1}/{num_epochs}\")\n",
    "    \n",
    "    # Training digit network\n",
    "    digit_net.train()\n",
    "    digit_running_loss = 0.0\n",
    "    epoch_start = time.time()\n",
    "    \n",
    "    # Add progress bar\n",
    "    pbar = tqdm(digit_trainloader, desc=f\"Training Digit Net\")\n",
    "    for i, data in enumerate(pbar):\n",
    "        inputs, labels = data\n",
    "        inputs, labels = inputs.to(device), labels.to(device)\n",
    "        \n",
    "        digit_optimizer.zero_grad()\n",
    "        outputs = digit_net(inputs)\n",
    "        loss = digit_criterion(outputs, labels)\n",
    "        loss.backward()\n",
    "        digit_optimizer.step()\n",
    "        \n",
    "        digit_running_loss += loss.item()\n",
    "        if i % 100 == 99:\n",
    "            pbar.set_postfix({'loss': digit_running_loss/100})\n",
    "            digit_running_loss = 0.0\n",
    "    \n",
    "    # Training operator network\n",
    "    operator_net.train()\n",
    "    operator_running_loss = 0.0\n",
    "    \n",
    "    pbar = tqdm(operator_trainloader, desc=f\"Training Operator Net\")\n",
    "    for i, data in enumerate(pbar):\n",
    "        inputs, labels = data\n",
    "        inputs, labels = inputs.to(device), labels.to(device)\n",
    "        \n",
    "        operator_optimizer.zero_grad()\n",
    "        outputs = operator_net(inputs)\n",
    "        loss = operator_criterion(outputs, labels)\n",
    "        loss.backward()\n",
    "        operator_optimizer.step()\n",
    "        \n",
    "        operator_running_loss += loss.item()\n",
    "        if i % 100 == 99:\n",
    "            pbar.set_postfix({'loss': operator_running_loss/100})\n",
    "            operator_running_loss = 0.0\n",
    "    \n",
    "    # Evaluation every eval_interval epochs\n",
    "    if epoch % eval_interval == 0:\n",
    "        digit_net.eval()\n",
    "        operator_net.eval()\n",
    "        \n",
    "         # Create validation dataloaders (only when needed)\n",
    "        digit_valloader = DataLoader(digit_val_dataset, batch_size=32, shuffle=False)\n",
    "        operator_valloader = DataLoader(operator_val_dataset, batch_size=32, shuffle=False)\n",
    "        \n",
    "        # Evaluate digit network on validation set\n",
    "        correct = 0\n",
    "        total = 0\n",
    "        with torch.no_grad():\n",
    "            for data in digit_valloader:  # Changed from digit_trainloader\n",
    "                images, labels = data\n",
    "                images, labels = images.to(device), labels.to(device)\n",
    "                outputs = digit_net(images)\n",
    "                _, predicted = torch.max(outputs.data, 1)\n",
    "                total += labels.size(0)\n",
    "                correct += (predicted == labels).sum().item()\n",
    "        \n",
    "        current_digit_accuracy = 100 * correct / total\n",
    "        print(f\"\\nDigit Network Validation Accuracy: {current_digit_accuracy:.2f}%\")\n",
    "        \n",
    "        # Evaluate operator network on validation set\n",
    "        correct = 0\n",
    "        total = 0\n",
    "        with torch.no_grad():\n",
    "            for data in operator_valloader:  # Changed from operator_trainloader\n",
    "                images, labels = data\n",
    "                images, labels = images.to(device), labels.to(device)\n",
    "                outputs = operator_net(images)\n",
    "                _, predicted = torch.max(outputs.data, 1)\n",
    "                total += labels.size(0)\n",
    "                correct += (predicted == labels).sum().item()\n",
    "        \n",
    "        current_operator_accuracy = 100 * correct / total\n",
    "        print(f\"Operator Network Validation Accuracy: {current_operator_accuracy:.2f}%\")\n",
    "        \n",
    "        # Update schedulers\n",
    "        digit_scheduler.step(current_digit_accuracy)\n",
    "        operator_scheduler.step(current_operator_accuracy)\n",
    "        \n",
    "        # Check for improvement\n",
    "        if current_digit_accuracy > best_digit_accuracy or current_operator_accuracy > best_operator_accuracy:\n",
    "            best_digit_accuracy = max(best_digit_accuracy, current_digit_accuracy)\n",
    "            best_operator_accuracy = max(best_operator_accuracy, current_operator_accuracy)\n",
    "            torch.save(digit_net.state_dict(), best_digit_path)\n",
    "            torch.save(operator_net.state_dict(), best_operator_path)\n",
    "            epochs_without_improvement = 0\n",
    "            print(\"New best accuracy! Saved models.\")\n",
    "        else:\n",
    "            epochs_without_improvement += eval_interval\n",
    "        \n",
    "        # Early stopping check\n",
    "        if epochs_without_improvement >= early_stopping_patience:\n",
    "            print(\"\\nEarly stopping triggered!\")\n",
    "            break\n",
    "    \n",
    "    # Print epoch summary\n",
    "    epoch_time = time.time() - epoch_start\n",
    "    print(f\"\\nEpoch {epoch+1}/{num_epochs}\")\n",
    "    print(f\"Time taken: {epoch_time:.2f} seconds\")\n",
    "    print(f\"Best Digit Accuracy: {best_digit_accuracy:.2f}%\")\n",
    "    print(f\"Best Operator Accuracy: {best_operator_accuracy:.2f}%\")\n",
    "\n",
    "print('Finished Training')\n",
    "# Save final weights\n",
    "print(\"\\nSaving final model weights...\")\n",
    "try:\n",
    "    final_digit_path = './weights/digit_net_final.pth'\n",
    "    final_operator_path = './weights/operator_net_final.pth'\n",
    "    \n",
    "    torch.save(digit_net.state_dict(), final_digit_path)\n",
    "    torch.save(operator_net.state_dict(), final_operator_path)\n",
    "    \n",
    "    # Verify files were saved\n",
    "    if os.path.exists(final_digit_path) and os.path.exists(final_operator_path):\n",
    "        print(f\"Final weights saved successfully:\")\n",
    "        print(f\"- Digit network: {final_digit_path}\")\n",
    "        print(f\"- Operator network: {final_operator_path}\")\n",
    "    else:\n",
    "        print(\"Warning: Weight files not found after saving!\")\n",
    "except Exception as e:\n",
    "    print(f\"Error saving final weights: {e}\")\n",
    "\n",
    "\n",
    "\n",
    "if os.path.exists(best_digit_path) and os.path.exists(best_operator_path):\n",
    "    print(\"\\nBest weights were saved during training:\")\n",
    "    print(f\"- Best digit network: {best_digit_path}\")\n",
    "    print(f\"- Best operator network: {best_operator_path}\")\n",
    "else:\n",
    "    print(\"\\nWarning: Best weight files not found!\")"
   ]
  },
  {
   "cell_type": "code",
   "execution_count": 34,
   "metadata": {},
   "outputs": [
    {
     "name": "stdout",
     "output_type": "stream",
     "text": [
      "\n",
      "Performing final test evaluation...\n",
      "\n",
      "Final Digit Test Accuracy: 90.02%\n",
      "Final Operator Test Accuracy: 95.82%\n",
      "\n",
      "Testing complete!\n"
     ]
    }
   ],
   "source": [
    "\n",
    "print(\"\\nPerforming final test evaluation...\")\n",
    "digit_net.eval()\n",
    "operator_net.eval()\n",
    "\n",
    "# Create test dataloaders\n",
    "digit_testloader = DataLoader(digit_test_dataset, batch_size=32, shuffle=False)\n",
    "operator_testloader = DataLoader(operator_test_dataset, batch_size=32, shuffle=False)\n",
    "\n",
    "with torch.no_grad():\n",
    "    # Test digit network\n",
    "    correct = 0\n",
    "    total = 0\n",
    "    for images, labels in digit_testloader:\n",
    "        images, labels = images.to(device), labels.to(device)\n",
    "        outputs = digit_net(images)\n",
    "        _, predicted = torch.max(outputs.data, 1)\n",
    "        total += labels.size(0)\n",
    "        correct += (predicted == labels).sum().item()\n",
    "    test_digit_accuracy = 100 * correct / total\n",
    "    print(f\"\\nFinal Digit Test Accuracy: {test_digit_accuracy:.2f}%\")\n",
    "    \n",
    "    # Test operator network\n",
    "    correct = 0\n",
    "    total = 0\n",
    "    for images, labels in operator_testloader:\n",
    "        images, labels = images.to(device), labels.to(device)\n",
    "        outputs = operator_net(images)\n",
    "        _, predicted = torch.max(outputs.data, 1)\n",
    "        total += labels.size(0)\n",
    "        correct += (predicted == labels).sum().item()\n",
    "    test_operator_accuracy = 100 * correct / total\n",
    "    print(f\"Final Operator Test Accuracy: {test_operator_accuracy:.2f}%\")\n",
    "\n",
    "print(\"\\nTesting complete!\")"
   ]
  }
 ],
 "metadata": {
  "kernelspec": {
   "display_name": "Python 3",
   "language": "python",
   "name": "python3"
  },
  "language_info": {
   "codemirror_mode": {
    "name": "ipython",
    "version": 3
   },
   "file_extension": ".py",
   "mimetype": "text/x-python",
   "name": "python",
   "nbconvert_exporter": "python",
   "pygments_lexer": "ipython3",
   "version": "3.12.7"
  }
 },
 "nbformat": 4,
 "nbformat_minor": 2
}
